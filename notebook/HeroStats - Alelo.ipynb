{
 "cells": [
  {
   "cell_type": "markdown",
   "metadata": {},
   "source": [
    "<a href=\"https://github.com/victoresende19\" rel=\"some text\">![Foo](https://www.alelo.com.br/content/dam/alelo-institucional/Cabecalho-Rodape/Originais-Alelo_Outline2.png)</a>\n",
    "\n",
    "<h2 style=\"text-align:center\">Desafio Alelo</h2>\n",
    "<p style=\"text-align:center;font-size:13px;\"></p>\n",
    "   \n",
    "<h2 style=\"text-align:center\">Victor Augusto Souza Resende</h2>\n",
    "<p style=\"text-align:center;font-size:13px;\">Autor</p>"
   ]
  },
  {
   "cell_type": "markdown",
   "metadata": {},
   "source": [
    "## Sumário\n",
    "\n",
    "    \n",
    "- [1. Contexto](#1)<br>\n",
    "    * [1.2 Observatório sismológico](#12)<br>\n",
    "    \n",
    "- [2. Coletando os dados - API](#2) <br>\n",
    "    * [2.1 Coletando as variáveis necessárias](#21)<br>\n",
    "    * [2.2 Criando um dataframe com a lista das variáveis coletadas](#22)<br>\n",
    "    * [2.3 Manipulação dos dados](#23)<br>\n",
    "        + [2.3.1 Tipo do terremoto](#231)<br>\n",
    "        + [2.3.2 Variáveis de tempo](#232)<br>\n",
    "    \n",
    "- [3. Análise exploratória](#3) <br>\n",
    "    * [3.1 Magnitude](#31)<br>\n",
    "    * [3.2 Local](#32)<br>\n",
    "    * [3.3 Tipo](#33)<br>\n",
    "    * [3.4 Significância](#34)<br>\n",
    "    * [3.5 Profundidade](#35)<br>\n",
    "    * [3.5 Mapas-mundí](#36)<br>\n",
    "    \n",
    "- [4. Modelagem](#4) <br>\n",
    "    * [4.1 Separaçao em treino e teste](#41)<br>\n",
    "    * [4.2 Normalização dos dados](#42)<br>\n",
    "    * [4.3 Random forest](#43)<br>\n",
    "        + [4.3.1 GridSearchCV](#431)<br>\n",
    "        + [4.3.2 Visualização das árvores](#432)<br>\n",
    "\n",
    "- [5. Banco de dados (Não utilizado)](#5)<br>\n",
    "    * [5.1 Conexão SQlite](#51)<br>\n",
    "        + [5.1.2 Acessando dados SQLite](#512)<br>"
   ]
  },
  {
   "cell_type": "code",
   "execution_count": 61,
   "metadata": {},
   "outputs": [],
   "source": [
    "# manipulacao de dados\n",
    "import pandas as pd\n",
    "import numpy as np\n",
    "\n",
    "# pre processamento\n",
    "from sklearn.decomposition import PCA\n",
    "\n",
    "# clusterizacao\n",
    "from sklearn.cluster import KMeans\n",
    "from sklearn.metrics import silhouette_score\n",
    "from sklearn.manifold import TSNE\n",
    "\n",
    "# testes estatisticos\n",
    "from scipy.stats import shapiro\n",
    "\n",
    "# classificação e regressão\n",
    "from sklearn.model_selection import train_test_split\n",
    "from sklearn.metrics import classification_report\n",
    "from sklearn.naive_bayes import  BernoulliNB\n",
    "from sklearn.tree import DecisionTreeClassifier\n",
    "from sklearn.ensemble import RandomForestRegressor\n",
    "from sklearn.ensemble import RandomForestClassifier\n",
    "from sklearn.metrics import mean_absolute_percentage_error, mean_absolute_error, mean_squared_error\n",
    "from sklearn.feature_selection import RFE\n",
    "\n",
    "# graficos\n",
    "import seaborn as sns\n",
    "from matplotlib.pyplot import figure\n",
    "import matplotlib.pyplot as plt"
   ]
  },
  {
   "cell_type": "markdown",
   "metadata": {},
   "source": [
    "# 1 - Contexto <a id=\"1\"></a>"
   ]
  },
  {
   "cell_type": "markdown",
   "metadata": {},
   "source": [
    "Para tornar a resolução proposta mais dinâmica, deu-se o contexto de HeroStats, uma empresa que faz avaliação de super-heróis visando encontrar os mais talentosos e possíveis perigos para a sociedade através dos dados, dos quais pode-se acessar <a href=\"https://www.kaggle.com/datasets/claudiodavi/superhero-set/data\" rel=\"some text\">clicando aqui</a>. De maneira simples, são duas bases de dados a serem estudadas, uma com informações dos heróis e a outra com as respectivas informações dos poderes de cada um.\n",
    "\n",
    "A empresa HeroStats é uma grande empresa de avaliação para super-heróis, da qual é comumente consultada por grandes potencias mundiais.Dessa forma, a equipe de cientistas de dados foi convocada para verificar e encontrar respostas para os problemas abaixo."
   ]
  },
  {
   "cell_type": "markdown",
   "metadata": {},
   "source": [
    "### 1.2 - Problemas <a id=\"12\"></a>"
   ]
  },
  {
   "cell_type": "markdown",
   "metadata": {},
   "source": [
    "A fim de identificar pontos importantes visando a atividade dos super-herois na sociedade, foi solicitado à HeroStats a avaliação dos problemas:\n",
    "- Agrupamento: queremos agrupar nossos super-heróis de acordo com seus poderes e informações. Execute um método de cluster não supervisionado usando o número de clusters que você julgar mais apropriado\n",
    "- Identificação dos bandidos: Nesta seção, lidaremos com o problema de aprendizagem supervisionada. Mais concretamente, iremos formular uma tarefa de classificação, e nosso alvo é o alinhamento dos super-heróis (bom ou mau).\n",
    "- Além do bem e do mal: Vamos transformar nosso problema em uma tarefa de regressão e tentar prever o peso dos super-heróis dados os outros recursos\n",
    "- Análise dos modelos e resultados\n",
    "- Implementação Streamlit: Desenvolva uma aplicação interativa usando Streamlit que permita aos usuários explorar o conjunto de dados de super-heróis e interagir com os modelos de machine learning desenvolvidos nas questões anteriores.\n",
    "\n",
    "Para informações mais detalhadas de cada pergunta, favor consultar o relatório solicitante."
   ]
  },
  {
   "cell_type": "markdown",
   "metadata": {},
   "source": [
    "# 2 - Acessando a base de dados <a id=\"2\"></a>"
   ]
  },
  {
   "cell_type": "code",
   "execution_count": 62,
   "metadata": {},
   "outputs": [],
   "source": [
    "df_hero_info = pd.read_csv('../data/heroes_information.csv')\n",
    "df_hero_powers = pd.read_csv('../data/super_hero_powers.csv')"
   ]
  },
  {
   "cell_type": "code",
   "execution_count": 63,
   "metadata": {},
   "outputs": [
    {
     "data": {
      "text/html": [
       "<div>\n",
       "<style scoped>\n",
       "    .dataframe tbody tr th:only-of-type {\n",
       "        vertical-align: middle;\n",
       "    }\n",
       "\n",
       "    .dataframe tbody tr th {\n",
       "        vertical-align: top;\n",
       "    }\n",
       "\n",
       "    .dataframe thead th {\n",
       "        text-align: right;\n",
       "    }\n",
       "</style>\n",
       "<table border=\"1\" class=\"dataframe\">\n",
       "  <thead>\n",
       "    <tr style=\"text-align: right;\">\n",
       "      <th></th>\n",
       "      <th>Unnamed: 0</th>\n",
       "      <th>name</th>\n",
       "      <th>Gender</th>\n",
       "      <th>Eye color</th>\n",
       "      <th>Race</th>\n",
       "      <th>Hair color</th>\n",
       "      <th>Height</th>\n",
       "      <th>Publisher</th>\n",
       "      <th>Skin color</th>\n",
       "      <th>Alignment</th>\n",
       "      <th>Weight</th>\n",
       "    </tr>\n",
       "  </thead>\n",
       "  <tbody>\n",
       "    <tr>\n",
       "      <th>0</th>\n",
       "      <td>0</td>\n",
       "      <td>A-Bomb</td>\n",
       "      <td>Male</td>\n",
       "      <td>yellow</td>\n",
       "      <td>Human</td>\n",
       "      <td>No Hair</td>\n",
       "      <td>203.0</td>\n",
       "      <td>Marvel Comics</td>\n",
       "      <td>-</td>\n",
       "      <td>good</td>\n",
       "      <td>441.0</td>\n",
       "    </tr>\n",
       "    <tr>\n",
       "      <th>1</th>\n",
       "      <td>1</td>\n",
       "      <td>Abe Sapien</td>\n",
       "      <td>Male</td>\n",
       "      <td>blue</td>\n",
       "      <td>Icthyo Sapien</td>\n",
       "      <td>No Hair</td>\n",
       "      <td>191.0</td>\n",
       "      <td>Dark Horse Comics</td>\n",
       "      <td>blue</td>\n",
       "      <td>good</td>\n",
       "      <td>65.0</td>\n",
       "    </tr>\n",
       "    <tr>\n",
       "      <th>2</th>\n",
       "      <td>2</td>\n",
       "      <td>Abin Sur</td>\n",
       "      <td>Male</td>\n",
       "      <td>blue</td>\n",
       "      <td>Ungaran</td>\n",
       "      <td>No Hair</td>\n",
       "      <td>185.0</td>\n",
       "      <td>DC Comics</td>\n",
       "      <td>red</td>\n",
       "      <td>good</td>\n",
       "      <td>90.0</td>\n",
       "    </tr>\n",
       "    <tr>\n",
       "      <th>3</th>\n",
       "      <td>3</td>\n",
       "      <td>Abomination</td>\n",
       "      <td>Male</td>\n",
       "      <td>green</td>\n",
       "      <td>Human / Radiation</td>\n",
       "      <td>No Hair</td>\n",
       "      <td>203.0</td>\n",
       "      <td>Marvel Comics</td>\n",
       "      <td>-</td>\n",
       "      <td>bad</td>\n",
       "      <td>441.0</td>\n",
       "    </tr>\n",
       "    <tr>\n",
       "      <th>4</th>\n",
       "      <td>4</td>\n",
       "      <td>Abraxas</td>\n",
       "      <td>Male</td>\n",
       "      <td>blue</td>\n",
       "      <td>Cosmic Entity</td>\n",
       "      <td>Black</td>\n",
       "      <td>-99.0</td>\n",
       "      <td>Marvel Comics</td>\n",
       "      <td>-</td>\n",
       "      <td>bad</td>\n",
       "      <td>-99.0</td>\n",
       "    </tr>\n",
       "  </tbody>\n",
       "</table>\n",
       "</div>"
      ],
      "text/plain": [
       "   Unnamed: 0         name Gender Eye color               Race Hair color  \\\n",
       "0           0       A-Bomb   Male    yellow              Human    No Hair   \n",
       "1           1   Abe Sapien   Male      blue      Icthyo Sapien    No Hair   \n",
       "2           2     Abin Sur   Male      blue            Ungaran    No Hair   \n",
       "3           3  Abomination   Male     green  Human / Radiation    No Hair   \n",
       "4           4      Abraxas   Male      blue      Cosmic Entity      Black   \n",
       "\n",
       "   Height          Publisher Skin color Alignment  Weight  \n",
       "0   203.0      Marvel Comics          -      good   441.0  \n",
       "1   191.0  Dark Horse Comics       blue      good    65.0  \n",
       "2   185.0          DC Comics        red      good    90.0  \n",
       "3   203.0      Marvel Comics          -       bad   441.0  \n",
       "4   -99.0      Marvel Comics          -       bad   -99.0  "
      ]
     },
     "execution_count": 63,
     "metadata": {},
     "output_type": "execute_result"
    }
   ],
   "source": [
    "df_hero_info.head()"
   ]
  },
  {
   "cell_type": "code",
   "execution_count": 64,
   "metadata": {},
   "outputs": [
    {
     "data": {
      "text/html": [
       "<div>\n",
       "<style scoped>\n",
       "    .dataframe tbody tr th:only-of-type {\n",
       "        vertical-align: middle;\n",
       "    }\n",
       "\n",
       "    .dataframe tbody tr th {\n",
       "        vertical-align: top;\n",
       "    }\n",
       "\n",
       "    .dataframe thead th {\n",
       "        text-align: right;\n",
       "    }\n",
       "</style>\n",
       "<table border=\"1\" class=\"dataframe\">\n",
       "  <thead>\n",
       "    <tr style=\"text-align: right;\">\n",
       "      <th></th>\n",
       "      <th>hero_names</th>\n",
       "      <th>Agility</th>\n",
       "      <th>Accelerated Healing</th>\n",
       "      <th>Lantern Power Ring</th>\n",
       "      <th>Dimensional Awareness</th>\n",
       "      <th>Cold Resistance</th>\n",
       "      <th>Durability</th>\n",
       "      <th>Stealth</th>\n",
       "      <th>Energy Absorption</th>\n",
       "      <th>Flight</th>\n",
       "      <th>...</th>\n",
       "      <th>Web Creation</th>\n",
       "      <th>Reality Warping</th>\n",
       "      <th>Odin Force</th>\n",
       "      <th>Symbiote Costume</th>\n",
       "      <th>Speed Force</th>\n",
       "      <th>Phoenix Force</th>\n",
       "      <th>Molecular Dissipation</th>\n",
       "      <th>Vision - Cryo</th>\n",
       "      <th>Omnipresent</th>\n",
       "      <th>Omniscient</th>\n",
       "    </tr>\n",
       "  </thead>\n",
       "  <tbody>\n",
       "    <tr>\n",
       "      <th>0</th>\n",
       "      <td>3-D Man</td>\n",
       "      <td>True</td>\n",
       "      <td>False</td>\n",
       "      <td>False</td>\n",
       "      <td>False</td>\n",
       "      <td>False</td>\n",
       "      <td>False</td>\n",
       "      <td>False</td>\n",
       "      <td>False</td>\n",
       "      <td>False</td>\n",
       "      <td>...</td>\n",
       "      <td>False</td>\n",
       "      <td>False</td>\n",
       "      <td>False</td>\n",
       "      <td>False</td>\n",
       "      <td>False</td>\n",
       "      <td>False</td>\n",
       "      <td>False</td>\n",
       "      <td>False</td>\n",
       "      <td>False</td>\n",
       "      <td>False</td>\n",
       "    </tr>\n",
       "    <tr>\n",
       "      <th>1</th>\n",
       "      <td>A-Bomb</td>\n",
       "      <td>False</td>\n",
       "      <td>True</td>\n",
       "      <td>False</td>\n",
       "      <td>False</td>\n",
       "      <td>False</td>\n",
       "      <td>True</td>\n",
       "      <td>False</td>\n",
       "      <td>False</td>\n",
       "      <td>False</td>\n",
       "      <td>...</td>\n",
       "      <td>False</td>\n",
       "      <td>False</td>\n",
       "      <td>False</td>\n",
       "      <td>False</td>\n",
       "      <td>False</td>\n",
       "      <td>False</td>\n",
       "      <td>False</td>\n",
       "      <td>False</td>\n",
       "      <td>False</td>\n",
       "      <td>False</td>\n",
       "    </tr>\n",
       "    <tr>\n",
       "      <th>2</th>\n",
       "      <td>Abe Sapien</td>\n",
       "      <td>True</td>\n",
       "      <td>True</td>\n",
       "      <td>False</td>\n",
       "      <td>False</td>\n",
       "      <td>True</td>\n",
       "      <td>True</td>\n",
       "      <td>False</td>\n",
       "      <td>False</td>\n",
       "      <td>False</td>\n",
       "      <td>...</td>\n",
       "      <td>False</td>\n",
       "      <td>False</td>\n",
       "      <td>False</td>\n",
       "      <td>False</td>\n",
       "      <td>False</td>\n",
       "      <td>False</td>\n",
       "      <td>False</td>\n",
       "      <td>False</td>\n",
       "      <td>False</td>\n",
       "      <td>False</td>\n",
       "    </tr>\n",
       "    <tr>\n",
       "      <th>3</th>\n",
       "      <td>Abin Sur</td>\n",
       "      <td>False</td>\n",
       "      <td>False</td>\n",
       "      <td>True</td>\n",
       "      <td>False</td>\n",
       "      <td>False</td>\n",
       "      <td>False</td>\n",
       "      <td>False</td>\n",
       "      <td>False</td>\n",
       "      <td>False</td>\n",
       "      <td>...</td>\n",
       "      <td>False</td>\n",
       "      <td>False</td>\n",
       "      <td>False</td>\n",
       "      <td>False</td>\n",
       "      <td>False</td>\n",
       "      <td>False</td>\n",
       "      <td>False</td>\n",
       "      <td>False</td>\n",
       "      <td>False</td>\n",
       "      <td>False</td>\n",
       "    </tr>\n",
       "    <tr>\n",
       "      <th>4</th>\n",
       "      <td>Abomination</td>\n",
       "      <td>False</td>\n",
       "      <td>True</td>\n",
       "      <td>False</td>\n",
       "      <td>False</td>\n",
       "      <td>False</td>\n",
       "      <td>False</td>\n",
       "      <td>False</td>\n",
       "      <td>False</td>\n",
       "      <td>False</td>\n",
       "      <td>...</td>\n",
       "      <td>False</td>\n",
       "      <td>False</td>\n",
       "      <td>False</td>\n",
       "      <td>False</td>\n",
       "      <td>False</td>\n",
       "      <td>False</td>\n",
       "      <td>False</td>\n",
       "      <td>False</td>\n",
       "      <td>False</td>\n",
       "      <td>False</td>\n",
       "    </tr>\n",
       "  </tbody>\n",
       "</table>\n",
       "<p>5 rows × 168 columns</p>\n",
       "</div>"
      ],
      "text/plain": [
       "    hero_names  Agility  Accelerated Healing  Lantern Power Ring  \\\n",
       "0      3-D Man     True                False               False   \n",
       "1       A-Bomb    False                 True               False   \n",
       "2   Abe Sapien     True                 True               False   \n",
       "3     Abin Sur    False                False                True   \n",
       "4  Abomination    False                 True               False   \n",
       "\n",
       "   Dimensional Awareness  Cold Resistance  Durability  Stealth  \\\n",
       "0                  False            False       False    False   \n",
       "1                  False            False        True    False   \n",
       "2                  False             True        True    False   \n",
       "3                  False            False       False    False   \n",
       "4                  False            False       False    False   \n",
       "\n",
       "   Energy Absorption  Flight  ...  Web Creation  Reality Warping  Odin Force  \\\n",
       "0              False   False  ...         False            False       False   \n",
       "1              False   False  ...         False            False       False   \n",
       "2              False   False  ...         False            False       False   \n",
       "3              False   False  ...         False            False       False   \n",
       "4              False   False  ...         False            False       False   \n",
       "\n",
       "   Symbiote Costume  Speed Force  Phoenix Force  Molecular Dissipation  \\\n",
       "0             False        False          False                  False   \n",
       "1             False        False          False                  False   \n",
       "2             False        False          False                  False   \n",
       "3             False        False          False                  False   \n",
       "4             False        False          False                  False   \n",
       "\n",
       "   Vision - Cryo  Omnipresent  Omniscient  \n",
       "0          False        False       False  \n",
       "1          False        False       False  \n",
       "2          False        False       False  \n",
       "3          False        False       False  \n",
       "4          False        False       False  \n",
       "\n",
       "[5 rows x 168 columns]"
      ]
     },
     "execution_count": 64,
     "metadata": {},
     "output_type": "execute_result"
    }
   ],
   "source": [
    "df_hero_powers.head()"
   ]
  },
  {
   "cell_type": "markdown",
   "metadata": {},
   "source": [
    "## 3 - EDA e Pré processamento <a id=\"3\"></a>"
   ]
  },
  {
   "cell_type": "markdown",
   "metadata": {},
   "source": [
    "### 3.1 - Estatísticas - Medidas de tendência central e dispersão <a id=\"31\"></a>"
   ]
  },
  {
   "cell_type": "markdown",
   "metadata": {},
   "source": [
    "Essa abordagem teve como objetivo a melhor visualização do usuário quando o código for implementado na web via biblioteca streamlit. Então, inicialmente, decidiu-se pela avaliação dos metadados das bases de informações dos heróis e respectivos poderes, verificando os tipos, colunas e informações importantes."
   ]
  },
  {
   "cell_type": "code",
   "execution_count": 65,
   "metadata": {},
   "outputs": [
    {
     "name": "stdout",
     "output_type": "stream",
     "text": [
      "<class 'pandas.core.frame.DataFrame'>\n",
      "RangeIndex: 734 entries, 0 to 733\n",
      "Data columns (total 11 columns):\n",
      " #   Column      Non-Null Count  Dtype  \n",
      "---  ------      --------------  -----  \n",
      " 0   Unnamed: 0  734 non-null    int64  \n",
      " 1   name        734 non-null    object \n",
      " 2   Gender      734 non-null    object \n",
      " 3   Eye color   734 non-null    object \n",
      " 4   Race        734 non-null    object \n",
      " 5   Hair color  734 non-null    object \n",
      " 6   Height      734 non-null    float64\n",
      " 7   Publisher   719 non-null    object \n",
      " 8   Skin color  734 non-null    object \n",
      " 9   Alignment   734 non-null    object \n",
      " 10  Weight      732 non-null    float64\n",
      "dtypes: float64(2), int64(1), object(8)\n",
      "memory usage: 63.2+ KB\n"
     ]
    }
   ],
   "source": [
    "df_hero_info.info()"
   ]
  },
  {
   "cell_type": "code",
   "execution_count": 66,
   "metadata": {},
   "outputs": [
    {
     "name": "stdout",
     "output_type": "stream",
     "text": [
      "<class 'pandas.core.frame.DataFrame'>\n",
      "RangeIndex: 667 entries, 0 to 666\n",
      "Columns: 168 entries, hero_names to Omniscient\n",
      "dtypes: bool(167), object(1)\n",
      "memory usage: 114.1+ KB\n"
     ]
    }
   ],
   "source": [
    "df_hero_powers.info()"
   ]
  },
  {
   "cell_type": "markdown",
   "metadata": {},
   "source": [
    "Assim, verifica-se a existência da coluna \"Unnamed: 0\" na base de dados de informações dos heróis, coluna da qual, ao verificar o dicionário de dados, indica apenas os indíces, informação irrelevante para a análise e que será abordada no pré-processamento. Então, agora verifica-se as estatísticas básicas: medidas de tendência central e dispersão para as bases de informações dos heróis e respectivos poderes, para as respectivas bases."
   ]
  },
  {
   "cell_type": "code",
   "execution_count": 67,
   "metadata": {},
   "outputs": [
    {
     "data": {
      "text/html": [
       "<div>\n",
       "<style scoped>\n",
       "    .dataframe tbody tr th:only-of-type {\n",
       "        vertical-align: middle;\n",
       "    }\n",
       "\n",
       "    .dataframe tbody tr th {\n",
       "        vertical-align: top;\n",
       "    }\n",
       "\n",
       "    .dataframe thead th {\n",
       "        text-align: right;\n",
       "    }\n",
       "</style>\n",
       "<table border=\"1\" class=\"dataframe\">\n",
       "  <thead>\n",
       "    <tr style=\"text-align: right;\">\n",
       "      <th></th>\n",
       "      <th>Unnamed: 0</th>\n",
       "      <th>Height</th>\n",
       "      <th>Weight</th>\n",
       "    </tr>\n",
       "  </thead>\n",
       "  <tbody>\n",
       "    <tr>\n",
       "      <th>count</th>\n",
       "      <td>734.000000</td>\n",
       "      <td>734.000000</td>\n",
       "      <td>732.000000</td>\n",
       "    </tr>\n",
       "    <tr>\n",
       "      <th>mean</th>\n",
       "      <td>366.500000</td>\n",
       "      <td>102.254087</td>\n",
       "      <td>43.855191</td>\n",
       "    </tr>\n",
       "    <tr>\n",
       "      <th>std</th>\n",
       "      <td>212.031837</td>\n",
       "      <td>139.624543</td>\n",
       "      <td>130.823733</td>\n",
       "    </tr>\n",
       "    <tr>\n",
       "      <th>min</th>\n",
       "      <td>0.000000</td>\n",
       "      <td>-99.000000</td>\n",
       "      <td>-99.000000</td>\n",
       "    </tr>\n",
       "    <tr>\n",
       "      <th>25%</th>\n",
       "      <td>183.250000</td>\n",
       "      <td>-99.000000</td>\n",
       "      <td>-99.000000</td>\n",
       "    </tr>\n",
       "    <tr>\n",
       "      <th>50%</th>\n",
       "      <td>366.500000</td>\n",
       "      <td>175.000000</td>\n",
       "      <td>62.000000</td>\n",
       "    </tr>\n",
       "    <tr>\n",
       "      <th>75%</th>\n",
       "      <td>549.750000</td>\n",
       "      <td>185.000000</td>\n",
       "      <td>90.000000</td>\n",
       "    </tr>\n",
       "    <tr>\n",
       "      <th>max</th>\n",
       "      <td>733.000000</td>\n",
       "      <td>975.000000</td>\n",
       "      <td>900.000000</td>\n",
       "    </tr>\n",
       "  </tbody>\n",
       "</table>\n",
       "</div>"
      ],
      "text/plain": [
       "       Unnamed: 0      Height      Weight\n",
       "count  734.000000  734.000000  732.000000\n",
       "mean   366.500000  102.254087   43.855191\n",
       "std    212.031837  139.624543  130.823733\n",
       "min      0.000000  -99.000000  -99.000000\n",
       "25%    183.250000  -99.000000  -99.000000\n",
       "50%    366.500000  175.000000   62.000000\n",
       "75%    549.750000  185.000000   90.000000\n",
       "max    733.000000  975.000000  900.000000"
      ]
     },
     "execution_count": 67,
     "metadata": {},
     "output_type": "execute_result"
    }
   ],
   "source": [
    "df_hero_info.describe()"
   ]
  },
  {
   "cell_type": "code",
   "execution_count": 68,
   "metadata": {
    "scrolled": true
   },
   "outputs": [
    {
     "data": {
      "text/html": [
       "<div>\n",
       "<style scoped>\n",
       "    .dataframe tbody tr th:only-of-type {\n",
       "        vertical-align: middle;\n",
       "    }\n",
       "\n",
       "    .dataframe tbody tr th {\n",
       "        vertical-align: top;\n",
       "    }\n",
       "\n",
       "    .dataframe thead th {\n",
       "        text-align: right;\n",
       "    }\n",
       "</style>\n",
       "<table border=\"1\" class=\"dataframe\">\n",
       "  <thead>\n",
       "    <tr style=\"text-align: right;\">\n",
       "      <th></th>\n",
       "      <th>hero_names</th>\n",
       "      <th>Agility</th>\n",
       "      <th>Accelerated Healing</th>\n",
       "      <th>Lantern Power Ring</th>\n",
       "      <th>Dimensional Awareness</th>\n",
       "      <th>Cold Resistance</th>\n",
       "      <th>Durability</th>\n",
       "      <th>Stealth</th>\n",
       "      <th>Energy Absorption</th>\n",
       "      <th>Flight</th>\n",
       "      <th>...</th>\n",
       "      <th>Web Creation</th>\n",
       "      <th>Reality Warping</th>\n",
       "      <th>Odin Force</th>\n",
       "      <th>Symbiote Costume</th>\n",
       "      <th>Speed Force</th>\n",
       "      <th>Phoenix Force</th>\n",
       "      <th>Molecular Dissipation</th>\n",
       "      <th>Vision - Cryo</th>\n",
       "      <th>Omnipresent</th>\n",
       "      <th>Omniscient</th>\n",
       "    </tr>\n",
       "  </thead>\n",
       "  <tbody>\n",
       "    <tr>\n",
       "      <th>count</th>\n",
       "      <td>667</td>\n",
       "      <td>667</td>\n",
       "      <td>667</td>\n",
       "      <td>667</td>\n",
       "      <td>667</td>\n",
       "      <td>667</td>\n",
       "      <td>667</td>\n",
       "      <td>667</td>\n",
       "      <td>667</td>\n",
       "      <td>667</td>\n",
       "      <td>...</td>\n",
       "      <td>667</td>\n",
       "      <td>667</td>\n",
       "      <td>667</td>\n",
       "      <td>667</td>\n",
       "      <td>667</td>\n",
       "      <td>667</td>\n",
       "      <td>667</td>\n",
       "      <td>667</td>\n",
       "      <td>667</td>\n",
       "      <td>667</td>\n",
       "    </tr>\n",
       "    <tr>\n",
       "      <th>unique</th>\n",
       "      <td>667</td>\n",
       "      <td>2</td>\n",
       "      <td>2</td>\n",
       "      <td>2</td>\n",
       "      <td>2</td>\n",
       "      <td>2</td>\n",
       "      <td>2</td>\n",
       "      <td>2</td>\n",
       "      <td>2</td>\n",
       "      <td>2</td>\n",
       "      <td>...</td>\n",
       "      <td>2</td>\n",
       "      <td>2</td>\n",
       "      <td>2</td>\n",
       "      <td>2</td>\n",
       "      <td>2</td>\n",
       "      <td>2</td>\n",
       "      <td>2</td>\n",
       "      <td>2</td>\n",
       "      <td>2</td>\n",
       "      <td>2</td>\n",
       "    </tr>\n",
       "    <tr>\n",
       "      <th>top</th>\n",
       "      <td>3-D Man</td>\n",
       "      <td>False</td>\n",
       "      <td>False</td>\n",
       "      <td>False</td>\n",
       "      <td>False</td>\n",
       "      <td>False</td>\n",
       "      <td>False</td>\n",
       "      <td>False</td>\n",
       "      <td>False</td>\n",
       "      <td>False</td>\n",
       "      <td>...</td>\n",
       "      <td>False</td>\n",
       "      <td>False</td>\n",
       "      <td>False</td>\n",
       "      <td>False</td>\n",
       "      <td>False</td>\n",
       "      <td>False</td>\n",
       "      <td>False</td>\n",
       "      <td>False</td>\n",
       "      <td>False</td>\n",
       "      <td>False</td>\n",
       "    </tr>\n",
       "    <tr>\n",
       "      <th>freq</th>\n",
       "      <td>1</td>\n",
       "      <td>425</td>\n",
       "      <td>489</td>\n",
       "      <td>656</td>\n",
       "      <td>642</td>\n",
       "      <td>620</td>\n",
       "      <td>410</td>\n",
       "      <td>541</td>\n",
       "      <td>590</td>\n",
       "      <td>455</td>\n",
       "      <td>...</td>\n",
       "      <td>653</td>\n",
       "      <td>651</td>\n",
       "      <td>665</td>\n",
       "      <td>658</td>\n",
       "      <td>666</td>\n",
       "      <td>666</td>\n",
       "      <td>666</td>\n",
       "      <td>665</td>\n",
       "      <td>665</td>\n",
       "      <td>665</td>\n",
       "    </tr>\n",
       "  </tbody>\n",
       "</table>\n",
       "<p>4 rows × 168 columns</p>\n",
       "</div>"
      ],
      "text/plain": [
       "       hero_names Agility Accelerated Healing Lantern Power Ring  \\\n",
       "count         667     667                 667                667   \n",
       "unique        667       2                   2                  2   \n",
       "top       3-D Man   False               False              False   \n",
       "freq            1     425                 489                656   \n",
       "\n",
       "       Dimensional Awareness Cold Resistance Durability Stealth  \\\n",
       "count                    667             667        667     667   \n",
       "unique                     2               2          2       2   \n",
       "top                    False           False      False   False   \n",
       "freq                     642             620        410     541   \n",
       "\n",
       "       Energy Absorption Flight  ... Web Creation Reality Warping Odin Force  \\\n",
       "count                667    667  ...          667             667        667   \n",
       "unique                 2      2  ...            2               2          2   \n",
       "top                False  False  ...        False           False      False   \n",
       "freq                 590    455  ...          653             651        665   \n",
       "\n",
       "       Symbiote Costume Speed Force Phoenix Force Molecular Dissipation  \\\n",
       "count               667         667           667                   667   \n",
       "unique                2           2             2                     2   \n",
       "top               False       False         False                 False   \n",
       "freq                658         666           666                   666   \n",
       "\n",
       "       Vision - Cryo Omnipresent Omniscient  \n",
       "count            667         667        667  \n",
       "unique             2           2          2  \n",
       "top            False       False      False  \n",
       "freq             665         665        665  \n",
       "\n",
       "[4 rows x 168 columns]"
      ]
     },
     "execution_count": 68,
     "metadata": {},
     "output_type": "execute_result"
    }
   ],
   "source": [
    "df_hero_powers.describe()"
   ]
  },
  {
   "cell_type": "markdown",
   "metadata": {},
   "source": [
    "### 3.2 - Análise de dados faltantes e duplicados <a id=\"32\"></a>"
   ]
  },
  {
   "cell_type": "markdown",
   "metadata": {},
   "source": [
    "A análise de dados faltantes (NaN) e duplicados é importante visando a etapa de criação do modelo a fim de evitar problemas como overfitting ou underfitting, isto é, quando o modelo apenas decora tudo ou não aprende nada."
   ]
  },
  {
   "cell_type": "code",
   "execution_count": 69,
   "metadata": {},
   "outputs": [],
   "source": [
    "def na_values_verify(df: pd.DataFrame):\n",
    "    \"\"\"\n",
    "    Recebe um dataframe para verificar os valores nulos de todas colunas.\n",
    "\n",
    "    Parâmetros:\n",
    "    - df: dataframe a ser verificado\n",
    "    \n",
    "    Retorna:\n",
    "    - Um print com as informações da porcentagem de nulos por variável.\n",
    "    \"\"\"\n",
    "    \n",
    "    na_df_values = ((df.isnull().sum())/(df.shape[0]))*100\n",
    "    print(f'\\n{\"=\"*20} Informações NaN {\"=\"*20}\\nA porcentagem de dados faltantes por variável é:\\n{na_df_values[na_df_values > 0.0]}')\n",
    "\n",
    "def duplicated_values_verify(df: pd.DataFrame):\n",
    "    \"\"\"\n",
    "    Recebe um dataframe para verificar os valores duplicados.\n",
    "    \n",
    "    Parâmetros:\n",
    "    - df: dataframe a ser verificado\n",
    "\n",
    "    Retorna:\n",
    "    - Um print com as informações da quantidade de duplicados.\n",
    "    \"\"\"\n",
    "    \n",
    "    duplicated_df_values = df.duplicated().sum()\n",
    "    return f'\\n{\"=\"*20} Informações duplicadas {\"=\"*20}\\nA porcentagem de dados duplicados é:\\n{duplicated_df_values}'"
   ]
  },
  {
   "cell_type": "code",
   "execution_count": 70,
   "metadata": {},
   "outputs": [
    {
     "name": "stdout",
     "output_type": "stream",
     "text": [
      "Heróis \n",
      "==================== Informações duplicadas ====================\n",
      "A porcentagem de dados duplicados é:\n",
      "0\n",
      "\n",
      "\n",
      "Poderes \n",
      "==================== Informações duplicadas ====================\n",
      "A porcentagem de dados duplicados é:\n",
      "0\n"
     ]
    }
   ],
   "source": [
    "print(f'Heróis {duplicated_values_verify(df_hero_info)}\\n\\n')\n",
    "print(f'Poderes {duplicated_values_verify(df_hero_powers)}')"
   ]
  },
  {
   "cell_type": "markdown",
   "metadata": {},
   "source": [
    "Abaixo são verificadas as principais variáveis relevantes de informações dos heróis."
   ]
  },
  {
   "cell_type": "code",
   "execution_count": 71,
   "metadata": {},
   "outputs": [
    {
     "data": {
      "text/plain": [
       "Text(0.5, 1.0, 'Quantidade por cor de pele')"
      ]
     },
     "execution_count": 71,
     "metadata": {},
     "output_type": "execute_result"
    },
    {
     "data": {
      "image/png": "[encoded data removed]",
      "text/plain": [
       "<Figure size 2000x500 with 1 Axes>"
      ]
     },
     "metadata": {},
     "output_type": "display_data"
    }
   ],
   "source": [
    "figure(figsize=(20,5))\n",
    "sns.countplot(x ='Skin color', data = df_hero_info).set_title('Quantidade por cor de pele')"
   ]
  },
  {
   "cell_type": "code",
   "execution_count": 72,
   "metadata": {},
   "outputs": [
    {
     "data": {
      "text/plain": [
       "Text(0.5, 1.0, 'Quantidade por raça')"
      ]
     },
     "execution_count": 72,
     "metadata": {},
     "output_type": "execute_result"
    },
    {
     "data": {
      "image/png": "[encoded data removed]",
      "text/plain": [
       "<Figure size 2000x500 with 1 Axes>"
      ]
     },
     "metadata": {},
     "output_type": "display_data"
    }
   ],
   "source": [
    "figure(figsize=(20,5))\n",
    "sns.countplot(x ='Race', data = df_hero_info,\n",
    "              order = df_hero_info['Race'].value_counts().iloc[:5].index).set_title('Quantidade por raça')"
   ]
  },
  {
   "cell_type": "code",
   "execution_count": 73,
   "metadata": {},
   "outputs": [
    {
     "data": {
      "text/plain": [
       "Text(0.5, 1.0, 'Quantidade por gênero')"
      ]
     },
     "execution_count": 73,
     "metadata": {},
     "output_type": "execute_result"
    },
    {
     "data": {
      "image/png": "[encoded data removed]",
      "text/plain": [
       "<Figure size 2000x500 with 1 Axes>"
      ]
     },
     "metadata": {},
     "output_type": "display_data"
    }
   ],
   "source": [
    "figure(figsize=(20,5))\n",
    "sns.countplot(x ='Gender', data = df_hero_info).set_title('Quantidade por gênero')"
   ]
  },
  {
   "cell_type": "code",
   "execution_count": 74,
   "metadata": {},
   "outputs": [
    {
     "data": {
      "text/plain": [
       "Text(0.5, 1.0, 'Quantidade por alinhamento')"
      ]
     },
     "execution_count": 74,
     "metadata": {},
     "output_type": "execute_result"
    },
    {
     "data": {
      "image/png": "[encoded data removed]",
      "text/plain": [
       "<Figure size 2000x500 with 1 Axes>"
      ]
     },
     "metadata": {},
     "output_type": "display_data"
    }
   ],
   "source": [
    "figure(figsize=(20,5))\n",
    "sns.countplot(x ='Alignment', data = df_hero_info).set_title('Quantidade por alinhamento')"
   ]
  },
  {
   "cell_type": "code",
   "execution_count": 75,
   "metadata": {
    "scrolled": false
   },
   "outputs": [
    {
     "data": {
      "text/plain": [
       "Text(0.5, 1.0, 'Peso por altura')"
      ]
     },
     "execution_count": 75,
     "metadata": {},
     "output_type": "execute_result"
    },
    {
     "data": {
      "image/png": "[encoded data removed]",
      "text/plain": [
       "<Figure size 640x480 with 1 Axes>"
      ]
     },
     "metadata": {},
     "output_type": "display_data"
    }
   ],
   "source": [
    "sns.scatterplot(x='Weight', y='Height', data=df_hero_info).set_title('Peso por altura')"
   ]
  },
  {
   "cell_type": "markdown",
   "metadata": {},
   "source": [
    "Assim, verifica-se que os valores \"-\" para variáveis categoricas e -99 para variáveis numéricas são dados dos quais representam possíveis falhas do sistema, dos quais são irrelevantes."
   ]
  },
  {
   "cell_type": "markdown",
   "metadata": {},
   "source": [
    "### 3.3 - Pré-processamento <a id=\"33\"></a>"
   ]
  },
  {
   "cell_type": "markdown",
   "metadata": {},
   "source": [
    "Exclusão da coluna \"Unnamed: 0\" da base de dados sobre informações dos heróis, da qual na documentação consta como uma coluna de index. Sendo assim, não possui relevância e não agrega a análise. "
   ]
  },
  {
   "cell_type": "markdown",
   "metadata": {},
   "source": [
    "- Remoção coluna Unnamed: 0 da base de informações dos heróis (df_hero_info)\n",
    "- Alteração valores \"-\" e -99: Troca dos valores \"-\" e -99 para NaN \n",
    "- Dados NaN: Verificação de dados NaN.\n",
    "- Lidando com valores NaN - Alignment e Weight: As variáveis Alignment e Weight constam nas análises solicitadas. Para isso, dado a pouca (%) de dados faltantes, decidiu-se pela exclusão.\n",
    "- Merge dos dados: Junção das tabelas de informação dos heróis e poderes por meio da coluna name.\n",
    "- Removendo NaN: A imputação dos dados faltantes restantes torna-se inviável, além de não conter grandes informações. Decidiu-se pela exclusão\n",
    "- Criação de colunas binárias: Visando a análise e criação de modelos, converteu-se as colunas categoricas em numérica binária."
   ]
  },
  {
   "cell_type": "code",
   "execution_count": 76,
   "metadata": {},
   "outputs": [],
   "source": [
    "# Remoção da coluna Unnamed: 0\n",
    "df_hero_info = df_hero_info.drop(columns=['Unnamed: 0'])\n",
    "\n",
    "# Troca dos valores - por NaN\n",
    "df_hero_info = df_hero_info.replace('-', np.nan)\n",
    "df_hero_powers = df_hero_powers.replace('-', np.nan)\n",
    "\n",
    "# Troca dos Weight e Height - por NaN\n",
    "df_hero_info['Weight'] = df_hero_info['Weight'].replace(-99.0, np.nan)\n",
    "df_hero_info['Height'] = df_hero_info['Height'].replace(-99.0, np.nan)"
   ]
  },
  {
   "cell_type": "code",
   "execution_count": 77,
   "metadata": {},
   "outputs": [
    {
     "name": "stdout",
     "output_type": "stream",
     "text": [
      "\n",
      "==================== Informações NaN ====================\n",
      "A porcentagem de dados faltantes por variável é:\n",
      "Gender         3.950954\n",
      "Eye color     23.433243\n",
      "Race          41.416894\n",
      "Hair color    23.433243\n",
      "Height        29.564033\n",
      "Publisher      2.043597\n",
      "Skin color    90.190736\n",
      "Alignment      0.953678\n",
      "Weight        32.561308\n",
      "dtype: float64\n",
      "Heróis None\n",
      "\n",
      "\n",
      "\n",
      "==================== Informações NaN ====================\n",
      "A porcentagem de dados faltantes por variável é:\n",
      "Series([], dtype: float64)\n",
      "Poderes None\n"
     ]
    }
   ],
   "source": [
    "print(f'Heróis {na_values_verify(df_hero_info)}\\n\\n')\n",
    "print(f'Poderes {na_values_verify(df_hero_powers)}')"
   ]
  },
  {
   "cell_type": "code",
   "execution_count": 78,
   "metadata": {},
   "outputs": [
    {
     "name": "stdout",
     "output_type": "stream",
     "text": [
      "\n",
      "==================== Informações NaN ====================\n",
      "A porcentagem de dados faltantes por variável é:\n",
      "Gender         3.950954\n",
      "Eye color     23.433243\n",
      "Race          41.416894\n",
      "Hair color    23.433243\n",
      "Height        29.564033\n",
      "Publisher      2.043597\n",
      "Skin color    90.190736\n",
      "Alignment      0.953678\n",
      "Weight        32.561308\n",
      "dtype: float64\n",
      "Heróis None\n",
      "\n",
      "\n",
      "\n",
      "==================== Informações NaN ====================\n",
      "A porcentagem de dados faltantes por variável é:\n",
      "Series([], dtype: float64)\n",
      "Poderes None\n"
     ]
    }
   ],
   "source": [
    "print(f'Heróis {na_values_verify(df_hero_info)}\\n\\n')\n",
    "print(f'Poderes {na_values_verify(df_hero_powers)}')"
   ]
  },
  {
   "cell_type": "code",
   "execution_count": 79,
   "metadata": {},
   "outputs": [
    {
     "data": {
      "text/html": [
       "<div>\n",
       "<style scoped>\n",
       "    .dataframe tbody tr th:only-of-type {\n",
       "        vertical-align: middle;\n",
       "    }\n",
       "\n",
       "    .dataframe tbody tr th {\n",
       "        vertical-align: top;\n",
       "    }\n",
       "\n",
       "    .dataframe thead th {\n",
       "        text-align: right;\n",
       "    }\n",
       "</style>\n",
       "<table border=\"1\" class=\"dataframe\">\n",
       "  <thead>\n",
       "    <tr style=\"text-align: right;\">\n",
       "      <th></th>\n",
       "      <th>Height</th>\n",
       "      <th>Weight</th>\n",
       "    </tr>\n",
       "  </thead>\n",
       "  <tbody>\n",
       "    <tr>\n",
       "      <th>count</th>\n",
       "      <td>517.000000</td>\n",
       "      <td>495.000000</td>\n",
       "    </tr>\n",
       "    <tr>\n",
       "      <th>mean</th>\n",
       "      <td>186.726306</td>\n",
       "      <td>112.252525</td>\n",
       "    </tr>\n",
       "    <tr>\n",
       "      <th>std</th>\n",
       "      <td>59.251895</td>\n",
       "      <td>104.151142</td>\n",
       "    </tr>\n",
       "    <tr>\n",
       "      <th>min</th>\n",
       "      <td>15.200000</td>\n",
       "      <td>2.000000</td>\n",
       "    </tr>\n",
       "    <tr>\n",
       "      <th>25%</th>\n",
       "      <td>173.000000</td>\n",
       "      <td>61.000000</td>\n",
       "    </tr>\n",
       "    <tr>\n",
       "      <th>50%</th>\n",
       "      <td>183.000000</td>\n",
       "      <td>81.000000</td>\n",
       "    </tr>\n",
       "    <tr>\n",
       "      <th>75%</th>\n",
       "      <td>191.000000</td>\n",
       "      <td>108.000000</td>\n",
       "    </tr>\n",
       "    <tr>\n",
       "      <th>max</th>\n",
       "      <td>975.000000</td>\n",
       "      <td>900.000000</td>\n",
       "    </tr>\n",
       "  </tbody>\n",
       "</table>\n",
       "</div>"
      ],
      "text/plain": [
       "           Height      Weight\n",
       "count  517.000000  495.000000\n",
       "mean   186.726306  112.252525\n",
       "std     59.251895  104.151142\n",
       "min     15.200000    2.000000\n",
       "25%    173.000000   61.000000\n",
       "50%    183.000000   81.000000\n",
       "75%    191.000000  108.000000\n",
       "max    975.000000  900.000000"
      ]
     },
     "execution_count": 79,
     "metadata": {},
     "output_type": "execute_result"
    }
   ],
   "source": [
    "df_hero_info[['Height', 'Weight']].describe()"
   ]
  },
  {
   "cell_type": "code",
   "execution_count": 80,
   "metadata": {},
   "outputs": [],
   "source": [
    "# Imputação das variáveis de Weight e Height\n",
    "df_hero_info['Height'] = df_hero_info['Height'].fillna(df_hero_info.groupby(['Race','Gender'])['Height'].transform('mean'))\n",
    "df_hero_info['Weight'] = df_hero_info['Weight'].fillna(df_hero_info.groupby(['Race','Gender'])['Weight'].transform('mean'))\n",
    "df_hero_info = df_hero_info.drop('Skin color', axis=1)"
   ]
  },
  {
   "cell_type": "code",
   "execution_count": 81,
   "metadata": {},
   "outputs": [],
   "source": [
    "column_names = df_hero_powers.columns.values\n",
    "column_names[0] = 'name'\n",
    "df_hero_powers.columns = column_names"
   ]
  },
  {
   "cell_type": "code",
   "execution_count": 82,
   "metadata": {},
   "outputs": [
    {
     "data": {
      "text/html": [
       "<div>\n",
       "<style scoped>\n",
       "    .dataframe tbody tr th:only-of-type {\n",
       "        vertical-align: middle;\n",
       "    }\n",
       "\n",
       "    .dataframe tbody tr th {\n",
       "        vertical-align: top;\n",
       "    }\n",
       "\n",
       "    .dataframe thead th {\n",
       "        text-align: right;\n",
       "    }\n",
       "</style>\n",
       "<table border=\"1\" class=\"dataframe\">\n",
       "  <thead>\n",
       "    <tr style=\"text-align: right;\">\n",
       "      <th></th>\n",
       "      <th>name</th>\n",
       "      <th>Gender</th>\n",
       "      <th>Eye color</th>\n",
       "      <th>Race</th>\n",
       "      <th>Hair color</th>\n",
       "      <th>Height</th>\n",
       "      <th>Publisher</th>\n",
       "      <th>Alignment</th>\n",
       "      <th>Weight</th>\n",
       "      <th>Agility</th>\n",
       "      <th>...</th>\n",
       "      <th>Web Creation</th>\n",
       "      <th>Reality Warping</th>\n",
       "      <th>Odin Force</th>\n",
       "      <th>Symbiote Costume</th>\n",
       "      <th>Speed Force</th>\n",
       "      <th>Phoenix Force</th>\n",
       "      <th>Molecular Dissipation</th>\n",
       "      <th>Vision - Cryo</th>\n",
       "      <th>Omnipresent</th>\n",
       "      <th>Omniscient</th>\n",
       "    </tr>\n",
       "  </thead>\n",
       "  <tbody>\n",
       "    <tr>\n",
       "      <th>0</th>\n",
       "      <td>A-Bomb</td>\n",
       "      <td>Male</td>\n",
       "      <td>yellow</td>\n",
       "      <td>Human</td>\n",
       "      <td>No Hair</td>\n",
       "      <td>203.0</td>\n",
       "      <td>Marvel Comics</td>\n",
       "      <td>good</td>\n",
       "      <td>441.0</td>\n",
       "      <td>False</td>\n",
       "      <td>...</td>\n",
       "      <td>False</td>\n",
       "      <td>False</td>\n",
       "      <td>False</td>\n",
       "      <td>False</td>\n",
       "      <td>False</td>\n",
       "      <td>False</td>\n",
       "      <td>False</td>\n",
       "      <td>False</td>\n",
       "      <td>False</td>\n",
       "      <td>False</td>\n",
       "    </tr>\n",
       "    <tr>\n",
       "      <th>1</th>\n",
       "      <td>Abe Sapien</td>\n",
       "      <td>Male</td>\n",
       "      <td>blue</td>\n",
       "      <td>Icthyo Sapien</td>\n",
       "      <td>No Hair</td>\n",
       "      <td>191.0</td>\n",
       "      <td>Dark Horse Comics</td>\n",
       "      <td>good</td>\n",
       "      <td>65.0</td>\n",
       "      <td>True</td>\n",
       "      <td>...</td>\n",
       "      <td>False</td>\n",
       "      <td>False</td>\n",
       "      <td>False</td>\n",
       "      <td>False</td>\n",
       "      <td>False</td>\n",
       "      <td>False</td>\n",
       "      <td>False</td>\n",
       "      <td>False</td>\n",
       "      <td>False</td>\n",
       "      <td>False</td>\n",
       "    </tr>\n",
       "    <tr>\n",
       "      <th>2</th>\n",
       "      <td>Abin Sur</td>\n",
       "      <td>Male</td>\n",
       "      <td>blue</td>\n",
       "      <td>Ungaran</td>\n",
       "      <td>No Hair</td>\n",
       "      <td>185.0</td>\n",
       "      <td>DC Comics</td>\n",
       "      <td>good</td>\n",
       "      <td>90.0</td>\n",
       "      <td>False</td>\n",
       "      <td>...</td>\n",
       "      <td>False</td>\n",
       "      <td>False</td>\n",
       "      <td>False</td>\n",
       "      <td>False</td>\n",
       "      <td>False</td>\n",
       "      <td>False</td>\n",
       "      <td>False</td>\n",
       "      <td>False</td>\n",
       "      <td>False</td>\n",
       "      <td>False</td>\n",
       "    </tr>\n",
       "    <tr>\n",
       "      <th>3</th>\n",
       "      <td>Abomination</td>\n",
       "      <td>Male</td>\n",
       "      <td>green</td>\n",
       "      <td>Human / Radiation</td>\n",
       "      <td>No Hair</td>\n",
       "      <td>203.0</td>\n",
       "      <td>Marvel Comics</td>\n",
       "      <td>bad</td>\n",
       "      <td>441.0</td>\n",
       "      <td>False</td>\n",
       "      <td>...</td>\n",
       "      <td>False</td>\n",
       "      <td>False</td>\n",
       "      <td>False</td>\n",
       "      <td>False</td>\n",
       "      <td>False</td>\n",
       "      <td>False</td>\n",
       "      <td>False</td>\n",
       "      <td>False</td>\n",
       "      <td>False</td>\n",
       "      <td>False</td>\n",
       "    </tr>\n",
       "    <tr>\n",
       "      <th>4</th>\n",
       "      <td>Abraxas</td>\n",
       "      <td>Male</td>\n",
       "      <td>blue</td>\n",
       "      <td>Cosmic Entity</td>\n",
       "      <td>Black</td>\n",
       "      <td>876.0</td>\n",
       "      <td>Marvel Comics</td>\n",
       "      <td>bad</td>\n",
       "      <td>16.0</td>\n",
       "      <td>False</td>\n",
       "      <td>...</td>\n",
       "      <td>False</td>\n",
       "      <td>False</td>\n",
       "      <td>False</td>\n",
       "      <td>False</td>\n",
       "      <td>False</td>\n",
       "      <td>False</td>\n",
       "      <td>False</td>\n",
       "      <td>False</td>\n",
       "      <td>False</td>\n",
       "      <td>False</td>\n",
       "    </tr>\n",
       "  </tbody>\n",
       "</table>\n",
       "<p>5 rows × 176 columns</p>\n",
       "</div>"
      ],
      "text/plain": [
       "          name Gender Eye color               Race Hair color  Height  \\\n",
       "0       A-Bomb   Male    yellow              Human    No Hair   203.0   \n",
       "1   Abe Sapien   Male      blue      Icthyo Sapien    No Hair   191.0   \n",
       "2     Abin Sur   Male      blue            Ungaran    No Hair   185.0   \n",
       "3  Abomination   Male     green  Human / Radiation    No Hair   203.0   \n",
       "4      Abraxas   Male      blue      Cosmic Entity      Black   876.0   \n",
       "\n",
       "           Publisher Alignment  Weight  Agility  ...  Web Creation  \\\n",
       "0      Marvel Comics      good   441.0    False  ...         False   \n",
       "1  Dark Horse Comics      good    65.0     True  ...         False   \n",
       "2          DC Comics      good    90.0    False  ...         False   \n",
       "3      Marvel Comics       bad   441.0    False  ...         False   \n",
       "4      Marvel Comics       bad    16.0    False  ...         False   \n",
       "\n",
       "   Reality Warping  Odin Force  Symbiote Costume  Speed Force  Phoenix Force  \\\n",
       "0            False       False             False        False          False   \n",
       "1            False       False             False        False          False   \n",
       "2            False       False             False        False          False   \n",
       "3            False       False             False        False          False   \n",
       "4            False       False             False        False          False   \n",
       "\n",
       "   Molecular Dissipation  Vision - Cryo  Omnipresent  Omniscient  \n",
       "0                  False          False        False       False  \n",
       "1                  False          False        False       False  \n",
       "2                  False          False        False       False  \n",
       "3                  False          False        False       False  \n",
       "4                  False          False        False       False  \n",
       "\n",
       "[5 rows x 176 columns]"
      ]
     },
     "execution_count": 82,
     "metadata": {},
     "output_type": "execute_result"
    }
   ],
   "source": [
    "# Merge das bases\n",
    "df_heros = pd.merge(df_hero_info, df_hero_powers, on='name')\n",
    "df_heros.head()"
   ]
  },
  {
   "cell_type": "code",
   "execution_count": 83,
   "metadata": {},
   "outputs": [],
   "source": [
    "df_heros = df_heros.replace(0, False)\n",
    "df_heros = df_heros.replace(1, True)"
   ]
  },
  {
   "cell_type": "code",
   "execution_count": 84,
   "metadata": {},
   "outputs": [
    {
     "name": "stdout",
     "output_type": "stream",
     "text": [
      "<class 'pandas.core.frame.DataFrame'>\n",
      "Int64Index: 336 entries, 0 to 658\n",
      "Columns: 176 entries, name to Omniscient\n",
      "dtypes: bool(167), float64(2), object(7)\n",
      "memory usage: 81.0+ KB\n"
     ]
    }
   ],
   "source": [
    "# Remoção dos dados faltantes restantes\n",
    "\n",
    "df_heros = df_heros.dropna()\n",
    "df_heros.info()"
   ]
  },
  {
   "cell_type": "markdown",
   "metadata": {},
   "source": [
    "# 4. Clusterização<a id=\"4\"></a>"
   ]
  },
  {
   "cell_type": "markdown",
   "metadata": {},
   "source": [
    "Primeiro, queremos agrupar nossos super-heróis em quipes, de acordo com seus poderes e informações. Execute um método de cluster não supervisionado usando o número de clusters que você julgar mais apropriado. Para a clusterização, decidiu-se responder a pergunta: é possível agrupar os heróis de acordo com as características de poderes deles contidos na base de dados df_hero_powers? Para isso, devido a grande dimensionalidade dos dados, principalmente por conta das informações dos poderes, fez-se a utilização da técnica PCA para reduzir a dimensionalidade dos dados."
   ]
  },
  {
   "cell_type": "markdown",
   "metadata": {},
   "source": [
    "### Redução de dimensionalidade"
   ]
  },
  {
   "cell_type": "markdown",
   "metadata": {},
   "source": [
    "Para a utilização do PCA, decidiu-se que deveriam ser encontrados os componentes principais que contessem até 80% da informação da base de dados, isto é, a variância explicada."
   ]
  },
  {
   "cell_type": "code",
   "execution_count": 85,
   "metadata": {},
   "outputs": [],
   "source": [
    "pca = PCA(0.8, random_state=42)\n",
    "data_pca = pca.fit_transform(df_hero_powers.drop('name', axis=1))"
   ]
  },
  {
   "cell_type": "markdown",
   "metadata": {},
   "source": [
    "Agora com a redução da dimensionalidade aplicada, torna-se importante encontrar o número de clusters ideiais para a separação dos dados. Para isso, foi utilizada a métrica de silhouette, da qual retorna a quantidade ideal de clusters."
   ]
  },
  {
   "cell_type": "markdown",
   "metadata": {},
   "source": [
    "### Avaliação das métricas de quantidade de cluster - silhouette score e gráfico do cotovelo"
   ]
  },
  {
   "cell_type": "code",
   "execution_count": 86,
   "metadata": {},
   "outputs": [],
   "source": [
    "def find_optimal_clusters(data, min_clusters, max_clusters):\n",
    "    \"\"\"\n",
    "    Esta função calcula o KMeans para diferentes quantidades de clusters, de 'min_clusters' até 'max_clusters',\n",
    "    e retorna o número de clusters que maximiza o silhouette score.\n",
    "\n",
    "    Parâmetros:\n",
    "    - data: conjunto de dados (DataFrame ou array NumPy) para clusterização.\n",
    "    - min_clusters: mínimo de clusters a ser testado.\n",
    "    - max_clusters: máximo de clusters a ser testado.\n",
    "\n",
    "    Retorna:\n",
    "    - Um dicionário contendo o número ótimo de clusters e o respectivo silhouette score.\n",
    "    \"\"\"\n",
    "    \n",
    "    silhouette_scores = []\n",
    "    \n",
    "    for n_clusters in range(min_clusters, max_clusters + 1):\n",
    "        kmeans = KMeans(n_clusters=n_clusters, random_state=42, n_init=10)\n",
    "        cluster_labels = kmeans.fit_predict(data)\n",
    "        silhouette_avg = silhouette_score(data, cluster_labels)\n",
    "        silhouette_scores.append((n_clusters, silhouette_avg))\n",
    "    \n",
    "    optimal_n_clusters, best_score = max(silhouette_scores, key=lambda x: x[1])\n",
    "    print(f'A quantidade de clusters ideal é de: {optimal_n_clusters}. Melhor score: {best_score}')\n",
    "    \n",
    "    return optimal_n_clusters"
   ]
  },
  {
   "cell_type": "code",
   "execution_count": 87,
   "metadata": {},
   "outputs": [
    {
     "name": "stdout",
     "output_type": "stream",
     "text": [
      "A quantidade de clusters ideal é de: 2. Melhor score: 0.1800251455230727\n"
     ]
    }
   ],
   "source": [
    "num_clusters = find_optimal_clusters(data_pca, 2, 30)"
   ]
  },
  {
   "cell_type": "markdown",
   "metadata": {},
   "source": [
    "### Criação do modelo de cluster - Kmeans"
   ]
  },
  {
   "cell_type": "markdown",
   "metadata": {},
   "source": [
    "Agora basta a aplicação de algum algoritmo de clusterização. Para isso, decidiu-se pelo KMeans visando descobrir padrões nos heróis e criar as melhores equipes possíveis. "
   ]
  },
  {
   "cell_type": "code",
   "execution_count": 88,
   "metadata": {},
   "outputs": [
    {
     "data": {
      "text/plain": [
       "1    413\n",
       "0    254\n",
       "Name: Cluster, dtype: int64"
      ]
     },
     "execution_count": 88,
     "metadata": {},
     "output_type": "execute_result"
    }
   ],
   "source": [
    "km_model = KMeans(num_clusters, random_state=42, n_init=10)\n",
    "km_model.fit(data_pca)\n",
    "\n",
    "df_hero_powers['Cluster'] = km_model.labels_\n",
    "df_hero_powers['Cluster'].value_counts()"
   ]
  },
  {
   "cell_type": "code",
   "execution_count": 89,
   "metadata": {},
   "outputs": [
    {
     "data": {
      "text/plain": [
       "<AxesSubplot: ylabel='Cluster'>"
      ]
     },
     "execution_count": 89,
     "metadata": {},
     "output_type": "execute_result"
    },
    {
     "data": {
      "image/png": "[encoded data removed]",
      "text/plain": [
       "<Figure size 640x480 with 1 Axes>"
      ]
     },
     "metadata": {},
     "output_type": "display_data"
    }
   ],
   "source": [
    "df_hero_powers['Cluster'].value_counts().plot.pie(autopct='%1.f%%')"
   ]
  },
  {
   "cell_type": "code",
   "execution_count": 90,
   "metadata": {},
   "outputs": [
    {
     "name": "stdout",
     "output_type": "stream",
     "text": [
      "[t-SNE] Computing 91 nearest neighbors...\n",
      "[t-SNE] Indexed 667 samples in 0.000s...\n",
      "[t-SNE] Computed neighbors for 667 samples in 0.017s...\n",
      "[t-SNE] Computed conditional probabilities for sample 667 / 667\n",
      "[t-SNE] Mean sigma: 0.754583\n"
     ]
    },
    {
     "name": "stdout",
     "output_type": "stream",
     "text": [
      "[t-SNE] KL divergence after 250 iterations with early exaggeration: 62.442860\n",
      "[t-SNE] KL divergence after 1000 iterations: 0.953297\n"
     ]
    },
    {
     "data": {
      "text/plain": [
       "<matplotlib.collections.PathCollection at 0x21104cf7b90>"
      ]
     },
     "execution_count": 90,
     "metadata": {},
     "output_type": "execute_result"
    },
    {
     "data": {
      "image/png": "[encoded data removed]",
      "text/plain": [
       "<Figure size 1500x1000 with 1 Axes>"
      ]
     },
     "metadata": {},
     "output_type": "display_data"
    }
   ],
   "source": [
    "tsne_clusters=TSNE(verbose=1, random_state=42)\n",
    "tsne_results=tsne_clusters.fit_transform(data_pca)\n",
    "\n",
    "plt.figure(figsize=(15, 10))\n",
    "plt.scatter(tsne_results[:,0], tsne_results[:,1], c=km_model.labels_)"
   ]
  },
  {
   "cell_type": "markdown",
   "metadata": {},
   "source": [
    "### 4.1 - Qual algoritmo você escolheu e por quê? <a id=\"41\"></a>"
   ]
  },
  {
   "cell_type": "markdown",
   "metadata": {},
   "source": [
    "Na HeroStats, escolhemos o algoritmo **K-Means** para nossas tarefas de clusterização devido à sua eficácia e simplicidade na formação de grupos com base na proximidade aos centróides. Após uma análise cuidadosa de várias alternativas, como DBSCAN e HDBSCAN, optamos por descartar esses métodos por motivos específicos relacionados à natureza dos nossos dados e aos objetivos da análise.\n",
    "\n",
    "O DBSCAN, que é bem adaptado para identificar clusters de forma arbitrária e lidar com outliers, foi descartado principalmente porque nossos dados tendem a ser distribuídos de maneira esférica. Assim, a necessidade de avaliar a densidade para definir clusters não se mostrou uma vantagem nesse contexto, tornando o DBSCAN menos apropriado.\n",
    "\n",
    "Por outro lado, o HDBSCAN, conhecido por sua capacidade de lidar com dados que apresentam uma estrutura hierárquica e variada densidade, também foi considerado inadequado. Nosso conjunto de dados não demonstrou padrões hierárquicos claros que justificassem o uso desse método mais complexo, que também possui maior exigência computacional em comparação com o K-Means."
   ]
  },
  {
   "cell_type": "markdown",
   "metadata": {},
   "source": [
    "### 4.2 - Quais recursos você usou e por quê? Explique qualquer pré-processamento ou engenharia de recursos (seleção) que você executou. <a id=\"41\"></a> "
   ]
  },
  {
   "cell_type": "markdown",
   "metadata": {},
   "source": [
    "Devido a grande dimensionalidade dos dados de poderes, cerca de 168 colunas,  foi necessária a implementação de técnicas de redução de dimensionalidade para simplificar o modelo sem perder informações cruciais, visando um modelo mais parsimonioso. Para isso, foi escolhido a técnica **PCA** que faz um arranjo linear entre as variáveis originais. Para a escolho dos componentes principais, decidiu-se pela quantidade que representasse 80% (variância explicada) da informação dos dados, o que resultou em 2 componentes.\n",
    "\n",
    "Além disso, devido ao KMEans necessitar previamente a quantidade de clusters, foi realizada uma análise do **método da silhueta**, que retorna a quantidade ideal de cluster. O índice de silhueta varia de -1 a 1, onde valores próximos a 1 indicam clusters muito homogêneos e valores próximos a -1 indicam clusters heterogêneos. Este método nos ajudou a identificar o número de clusters que melhor segmenta os dados, garantindo que os grupos formados sejam internamente coesos e claramente distintos entre si."
   ]
  },
  {
   "cell_type": "markdown",
   "metadata": {},
   "source": [
    "### 4.3 -  Como você escolheu esse número? Como você avalia a qualidade dos clusters finais? <a id=\"43\"></a> "
   ]
  },
  {
   "cell_type": "markdown",
   "metadata": {},
   "source": [
    "O número de clusters foi determinado através do método da silhueta, o qual varia de -1 a 1, onde valores próximos a 1 indicam clusters muito homogêneos e valores próximos a -1 indicam clusters heterogêneos. Foi utilizada esta medida para identificar o número ótimo de clusters, escolhendo aquele que maximiza o índice de silhueta médio, indicando um equilíbrio ideal entre coesão interna e separação entre os clusters.\n",
    "\n",
    "Para avaliar a qualidade dos clusters após a formação, empregamos a técnica de visualização t-Distributed Stochastic Neighbor Embedding (t-SNE), que nos permite observar a disposição dos clusters em um espaço bidimensional. Esta visualização nos ajudou a verificar intuitivamente se os clusters formados são distintos e agrupados de maneira compacta, o que é um indicativo de boa qualidade de clustering."
   ]
  },
  {
   "cell_type": "markdown",
   "metadata": {},
   "source": [
    "# 5. Identificação dos bandidos <a id=\"5\"></a>"
   ]
  },
  {
   "cell_type": "markdown",
   "metadata": {},
   "source": [
    "Nesta seção, lidaremos com o problema de aprendizagem supervisionada. Mais concretamente, iremos formular uma tarefa de classificação, e nosso alvo é o alinhamento dos super-heróis (bom ou mau).\n",
    "\n",
    "Primeiro, usaremos o algoritmo Naive Bayes. Execute o algoritmo nos dados dos super-heróis para prever a variável de alinhamento e avaliar os resultados. Novamente, detalhe qualquer pré-processamento e engenharia de recursos que você aplicou no processo.\n"
   ]
  },
  {
   "cell_type": "markdown",
   "metadata": {},
   "source": [
    "### Verificação desbalanceamento de classes"
   ]
  },
  {
   "cell_type": "markdown",
   "metadata": {},
   "source": [
    "Como identificado na etapa de exploração dos dados, a variável Alinhamento possui um desbalanceamento entre as classes. Entretanto, esse cenário é normal, uma vez que, dada as políticas públicas e notícias na mídia, as pessoas com super-poderes tendem a ser heróis. Assim, a quantidade de vilões e neutros realmente tende a ser baixa."
   ]
  },
  {
   "cell_type": "code",
   "execution_count": 91,
   "metadata": {},
   "outputs": [
    {
     "data": {
      "text/plain": [
       "name                     0\n",
       "Gender                   0\n",
       "Eye color                0\n",
       "Race                     0\n",
       "Hair color               0\n",
       "                        ..\n",
       "Phoenix Force            0\n",
       "Molecular Dissipation    0\n",
       "Vision - Cryo            0\n",
       "Omnipresent              0\n",
       "Omniscient               0\n",
       "Length: 176, dtype: int64"
      ]
     },
     "execution_count": 91,
     "metadata": {},
     "output_type": "execute_result"
    }
   ],
   "source": [
    "df_heros.isnull().sum()"
   ]
  },
  {
   "cell_type": "code",
   "execution_count": 92,
   "metadata": {},
   "outputs": [
    {
     "data": {
      "text/plain": [
       "Text(0.5, 1.0, 'Quantidade por alinhamento')"
      ]
     },
     "execution_count": 92,
     "metadata": {},
     "output_type": "execute_result"
    },
    {
     "data": {
      "image/png": "[encoded data removed]",
      "text/plain": [
       "<Figure size 2000x500 with 1 Axes>"
      ]
     },
     "metadata": {},
     "output_type": "display_data"
    }
   ],
   "source": [
    "figure(figsize=(20,5))\n",
    "sns.countplot(x ='Alignment', data = df_heros).set_title('Quantidade por alinhamento')"
   ]
  },
  {
   "cell_type": "markdown",
   "metadata": {},
   "source": [
    "### Verificação dos pressupostos"
   ]
  },
  {
   "cell_type": "markdown",
   "metadata": {},
   "source": [
    "Como todo modelo, há pressupostos dos quais devem ser verificados e levados em consideração. Assim, inicialmente é verificada a independência das variável, avaliada pela correlação de Pearson, do qual valor próximos de 1 e -1 indicam uma relação."
   ]
  },
  {
   "cell_type": "code",
   "execution_count": 93,
   "metadata": {},
   "outputs": [
    {
     "name": "stdout",
     "output_type": "stream",
     "text": [
      "Clairvoyance          Hypnokinesis            3.989476e-01\n",
      "Energy Manipulation   Energy Blasts           3.966621e-01\n",
      "Illusions             Mind Control            3.965874e-01\n",
      "Vision - Thermal      Vision - Night          3.948432e-01\n",
      "Enhanced Hearing      Vision - Night          3.918605e-01\n",
      "                                                  ...     \n",
      "Gliding               Telepathy               7.636367e-18\n",
      "Technopath/Cyberpath  Vision - Telescopic     7.423591e-18\n",
      "Energy Constructs     Technopath/Cyberpath    7.272603e-18\n",
      "Resurrection          Vision - Telescopic     2.717789e-18\n",
      "Telepathy Resistance  Invisibility            1.454664e-18\n",
      "Length: 7919, dtype: float64\n"
     ]
    },
    {
     "name": "stderr",
     "output_type": "stream",
     "text": [
      "C:\\Users\\User\\AppData\\Local\\Temp\\ipykernel_8560\\2029014070.py:2: FutureWarning: The default value of numeric_only in DataFrame.corr is deprecated. In a future version, it will default to False. Select only valid columns or specify the value of numeric_only to silence this warning.\n",
      "  correlations = df_heros.corr().unstack().abs().sort_values(ascending=False).drop_duplicates()\n"
     ]
    }
   ],
   "source": [
    "# 1. Variáveis independentes e Correlação entre si\n",
    "correlations = df_heros.corr().unstack().abs().sort_values(ascending=False).drop_duplicates()\n",
    "filtered_correlations = correlations[correlations < 0.4]\n",
    "print(filtered_correlations)"
   ]
  },
  {
   "cell_type": "code",
   "execution_count": 94,
   "metadata": {},
   "outputs": [
    {
     "name": "stdout",
     "output_type": "stream",
     "text": [
      "['Size Changing', 'Teleportation', 'Time Manipulation', 'Magnetism', 'Insanity', 'Animal Control', 'Dimensional Travel', 'Substance Secretion', 'Vision - Night', 'Web Creation', 'Magic Resistance', 'Enhanced Smell', 'Jump', 'Energy Blasts', 'Psionic Powers', 'Weight', 'Projection', 'Intangibility', 'Enhanced Senses', 'Vision - Heat', 'Intelligence', 'Gravity Control', 'Levitation', 'Telepathy Resistance', 'Elasticity', 'Resurrection', 'Phoenix Force', 'Heat Generation', 'Illumination', 'Photographic Reflexes', 'Energy Armor', 'Camouflage', 'Element Control', 'Molecular Combustion', 'Radiation Control', 'Precognition', 'Vitakinesis', 'Time Travel', 'Underwater breathing', 'Seismic Power', 'Super Breath', 'Molecular Manipulation', 'Reflexes', 'Height', 'Animation', 'Flight', 'Astral Projection', 'Power Augmentation', 'Possession', 'Gliding', 'Biokinesis', 'Immortality', 'Astral Travel', 'Animal Attributes', 'Water Control', 'Energy Absorption', 'Grim Reaping', 'Vision - Thermal', 'Vision - Telescopic', 'Radar Sense', 'Phasing', 'Mind Control Resistance', 'Empathy', 'Super Speed', 'Power Suit', 'Telekinesis', 'Cold Resistance', 'Agility', 'Illusions', 'Radiation Absorption', 'Self-Sustenance', 'Clairvoyance', 'Dimensional Awareness', 'Vision - Microscopic', 'Qwardian Power Ring', 'Danger Sense', 'Elemental Transmogrification', 'Shapeshifting', 'Power Sense', 'Force Fields', 'Lantern Power Ring', 'Telepathy', 'Energy Constructs', 'Weapons Master', 'Duplication', 'Terrakinesis', 'Sub-Mariner', 'Animal Oriented Powers', 'Wind Control', 'Omnilingualism', 'Vision - X-Ray', 'Hypnokinesis', 'Fire Control', 'Enhanced Touch', 'Plant Control', 'Mind Blast', 'Dexterity', 'Banish', 'Death Touch', 'Enhanced Hearing', 'Vision - Infrared', 'Energy Manipulation', 'Reality Warping', 'Radiation Immunity', 'Natural Armor', 'Sonar', 'Audio Control', 'Density Control', 'Probability Manipulation', 'Portal Creation', 'Nova Force', 'Cryokinesis', 'Stamina', 'Heat Resistance', 'Energy Resistance', 'Light Control', 'Omnipotent', 'Matter Absorption', 'Durability', 'Enhanced Memory', 'Speed Force', 'Weapon-based Powers', 'Power Absorption', 'Power Cosmic', 'Hair Manipulation', 'Adaptation', 'Mind Control', 'Marksmanship', 'Toxin and Disease Resistance', 'Enhanced Sight', 'Symbiote Costume', 'Super Strength', 'Stealth', 'Sonic Scream', 'Energy Beams', 'Natural Weapons', 'Cloaking', 'Peak Human Condition', 'Fire Resistance', 'The Force', 'Technopath/Cyberpath', 'Invulnerability', 'Wallcrawling', 'Electrical Transport', 'Electrokinesis', 'Echolocation', 'Toxin and Disease Control', 'Darkforce Manipulation', 'Odin Force', 'Summoning', 'Invisibility', 'Vision - Cryo', 'Weather Control', 'Regeneration', 'Accelerated Healing', 'Longevity', 'Magic', 'Power Nullifier']\n"
     ]
    }
   ],
   "source": [
    "correlated_unique_columns = set()\n",
    "\n",
    "for index in filtered_correlations.index:\n",
    "    correlated_unique_columns.update(index)\n",
    "\n",
    "correlated_unique_columns_list = list(correlated_unique_columns)\n",
    "print(correlated_unique_columns_list)"
   ]
  },
  {
   "cell_type": "markdown",
   "metadata": {},
   "source": [
    "Agora, outro pressuposto a ser validado são as distribuições. Como o conjunto de dados possui variáveis numéricas e booleanas, seguiu-se pelos testes de normalidade e bernoulli respectivamente."
   ]
  },
  {
   "cell_type": "code",
   "execution_count": 95,
   "metadata": {},
   "outputs": [
    {
     "name": "stdout",
     "output_type": "stream",
     "text": [
      "\n",
      "Teste de Shapiro-Wilk para normalidade:\n",
      "\n",
      "\n",
      "Height: Estatística=0.310, p-valor=1.47e-33\n",
      " - Provavelmente não normal\n",
      "\n",
      "Weight: Estatística=0.607, p-valor=5.99e-27\n",
      " - Provavelmente não normal\n",
      "\n"
     ]
    }
   ],
   "source": [
    "print(\"\\nTeste de Shapiro-Wilk para normalidade:\\n\\n\")\n",
    "for column in df_heros.select_dtypes(include=['int64', 'float64']).columns:\n",
    "    stat, p_value = shapiro(df_heros[column])\n",
    "    print(f'{column}: Estatística={stat:.3f}, p-valor={p_value:.3g}')\n",
    "    if p_value > 0.05:\n",
    "        print(\" - Provavelmente normal\\n\")\n",
    "    else:\n",
    "        print(\" - Provavelmente não normal\\n\")"
   ]
  },
  {
   "cell_type": "code",
   "execution_count": 96,
   "metadata": {},
   "outputs": [
    {
     "name": "stdout",
     "output_type": "stream",
     "text": [
      "Quantidade de colunas que seguem distribuição bernoulli: 156\n",
      "Colunas que seguem a distribuição bernoulli: ['Agility', 'Accelerated Healing', 'Lantern Power Ring', 'Dimensional Awareness', 'Cold Resistance', 'Durability', 'Stealth', 'Energy Absorption', 'Flight', 'Danger Sense', 'Underwater breathing', 'Marksmanship', 'Weapons Master', 'Power Augmentation', 'Animal Attributes', 'Longevity', 'Intelligence', 'Super Strength', 'Cryokinesis', 'Telepathy', 'Energy Armor', 'Energy Blasts', 'Duplication', 'Size Changing', 'Density Control', 'Stamina', 'Astral Travel', 'Audio Control', 'Dexterity', 'Super Speed', 'Possession', 'Animal Oriented Powers', 'Weapon-based Powers', 'Electrokinesis', 'Darkforce Manipulation', 'Death Touch', 'Teleportation', 'Enhanced Senses', 'Telekinesis', 'Energy Beams', 'Magic', 'Jump', 'Clairvoyance', 'Dimensional Travel', 'Power Sense', 'Shapeshifting', 'Peak Human Condition', 'Immortality', 'Camouflage', 'Element Control', 'Phasing', 'Astral Projection', 'Electrical Transport', 'Fire Control', 'Projection', 'Summoning', 'Enhanced Memory', 'Reflexes', 'Invulnerability', 'Energy Constructs', 'Force Fields', 'Self-Sustenance', 'Empathy', 'Power Nullifier', 'Radiation Control', 'Psionic Powers', 'Elasticity', 'Substance Secretion', 'Elemental Transmogrification', 'Technopath/Cyberpath', 'Photographic Reflexes', 'Seismic Power', 'Animation', 'Precognition', 'Mind Control', 'Fire Resistance', 'Power Absorption', 'Enhanced Hearing', 'Nova Force', 'Insanity', 'Hypnokinesis', 'Animal Control', 'Natural Armor', 'Intangibility', 'Enhanced Sight', 'Molecular Manipulation', 'Heat Generation', 'Adaptation', 'Gliding', 'Power Suit', 'Mind Blast', 'Probability Manipulation', 'Gravity Control', 'Regeneration', 'Light Control', 'Echolocation', 'Levitation', 'Toxin and Disease Control', 'Banish', 'Energy Manipulation', 'Heat Resistance', 'Natural Weapons', 'Time Travel', 'Enhanced Smell', 'Illusions', 'Hair Manipulation', 'Illumination', 'Omnipotent', 'Cloaking', 'Power Cosmic', 'Biokinesis', 'Water Control', 'Radiation Immunity', 'Vision - Telescopic', 'Toxin and Disease Resistance', 'Energy Resistance', 'Telepathy Resistance', 'Molecular Combustion', 'Omnilingualism', 'Portal Creation', 'Magnetism', 'Mind Control Resistance', 'Plant Control', 'Sonar', 'Sonic Scream', 'Time Manipulation', 'Enhanced Touch', 'Magic Resistance', 'Invisibility', 'Sub-Mariner', 'Radiation Absorption', 'Vision - Microscopic', 'Wind Control', 'Super Breath', 'Wallcrawling', 'Vision - Night', 'Vision - Infrared', 'Grim Reaping', 'Matter Absorption', 'The Force', 'Resurrection', 'Terrakinesis', 'Vision - Heat', 'Vitakinesis', 'Radar Sense', 'Qwardian Power Ring', 'Weather Control', 'Vision - X-Ray', 'Vision - Thermal', 'Web Creation', 'Reality Warping', 'Odin Force', 'Symbiote Costume', 'Speed Force', 'Phoenix Force', 'Vision - Cryo']\n"
     ]
    }
   ],
   "source": [
    "def test_bernoulli(df):\n",
    "    \"\"\"\n",
    "    Esta função verifica se determinada coluna binária segue distribuição bernoulli.\n",
    "\n",
    "    Parâmetros:\n",
    "    - df: O dataframe a ser analisado\n",
    "\n",
    "    Retorna:\n",
    "    - Uma lista com as colunas que seguem a distribuição.\n",
    "    \"\"\"\n",
    "    \n",
    "    bernoulli_columns = []\n",
    "    \n",
    "    for column in df.select_dtypes(include=['boolean']).columns:\n",
    "        unique_values = np.unique(df[column])\n",
    "        if len(unique_values) == 2:  \n",
    "            p = np.mean(df[column] == unique_values[0])\n",
    "            q = 1 - p  \n",
    "            bernoulli_columns.append(column)\n",
    "    return bernoulli_columns\n",
    "\n",
    "bernoulli_cols = test_bernoulli(df_heros)\n",
    "print(f\"Quantidade de colunas que seguem distribuição bernoulli: {len(bernoulli_cols)}\")\n",
    "print(f\"Colunas que seguem a distribuição bernoulli: {bernoulli_cols}\")"
   ]
  },
  {
   "cell_type": "markdown",
   "metadata": {},
   "source": [
    "### Criação do modelo Naive Bayes"
   ]
  },
  {
   "cell_type": "markdown",
   "metadata": {},
   "source": [
    "Por fim, visando prever o alinhamento (bom ou mau) fez-se a criação do modelo. Entretanto, para a escolha das variáveis, utilizou-se o método RFE com uma árvore simples de decisão. Assim, as variáveis escolhidas foram: Durability, Stealth, Marksmanship, Cryokinesis, Insanity, IMC. Vale ressaltar que o modelo utilizado foi o Naive Bayes Bernoulli, uma vez que se trata de um problema binário, classificar o herói em bom ou mau, em que 80% dos dados foram separados para treino e 20% para teste. Por fim, gerou-se as métricas F1-Score, precisão e acurácia. Além disso, criou-se uma variável a fim de melhorar o desempenho do modelo, o IMC, do qual o índice de massa corporal, que utiliza o peso sobre a altura ao quadrado."
   ]
  },
  {
   "cell_type": "code",
   "execution_count": 97,
   "metadata": {},
   "outputs": [],
   "source": [
    "df_heros['IMC'] = (df_heros['Weight']/(df_heros['Height']/100)**2)"
   ]
  },
  {
   "cell_type": "code",
   "execution_count": 98,
   "metadata": {},
   "outputs": [
    {
     "data": {
      "text/plain": [
       "Weight                 True\n",
       "Accelerated Healing    True\n",
       "Marksmanship           True\n",
       "Size Changing          True\n",
       "Insanity               True\n",
       "Natural Weapons        True\n",
       "Vision - Night         True\n",
       "IMC                    True\n",
       "Eye color_red          True\n",
       "Race_Cyborg            True\n",
       "dtype: bool"
      ]
     },
     "execution_count": 98,
     "metadata": {},
     "output_type": "execute_result"
    }
   ],
   "source": [
    "def features(df):\n",
    "    \"\"\"\n",
    "    Esta função faz a escolha das features atraves do REF e DecisionTree.\n",
    "\n",
    "    Parâmetros:\n",
    "    - df: conjunto de dados.\n",
    "\n",
    "    Retorna:\n",
    "    - Uma lista com as features recomendadas.\n",
    "    \"\"\"\n",
    "\n",
    "    df = pd.get_dummies(df, drop_first=True)\n",
    "\n",
    "    alignment_cols = [col for col in df.columns if 'Alignment_' in col]\n",
    "    X = df.drop(alignment_cols, axis=1) \n",
    "    y = df[alignment_cols] \n",
    "\n",
    "    X_train, X_test, y_train, y_test = train_test_split(X, y, test_size=0.2, random_state=42)\n",
    "\n",
    "    rfe = RFE(estimator=DecisionTreeClassifier(), n_features_to_select=10)\n",
    "    X_train_rfe = rfe.fit_transform(X_train, y_train)\n",
    "    X_test_rfe = rfe.transform(X_test)\n",
    "\n",
    "    selected_features = pd.Series(rfe.support_, index=X.columns)\n",
    "    return selected_features[selected_features == True]\n",
    "\n",
    "features(df_heros[df_heros['Alignment'] != 'neutral'])"
   ]
  },
  {
   "cell_type": "code",
   "execution_count": 99,
   "metadata": {},
   "outputs": [
    {
     "name": "stdout",
     "output_type": "stream",
     "text": [
      "Precisão 0.5166015625\n",
      "Recall 0.71875\n",
      "F1-Score 0.6011363636363636\n",
      "Acurácia 0.71875\n"
     ]
    }
   ],
   "source": [
    "def classifier(df):\n",
    "    \"\"\"\n",
    "    Esta função faz a previsão do alinhamento.\n",
    "\n",
    "    Parâmetros:\n",
    "    - df: conjunto de dados.\n",
    "\n",
    "    Retorna:\n",
    "    - métricas de precisao, recall, f1score, acurácia e o classificador treinado.\n",
    "    \"\"\"\n",
    "\n",
    "    X = df.loc[:, ['Durability', 'Stealth', 'Marksmanship', 'Cryokinesis', 'Insanity', 'IMC']].values\n",
    "    y = df.loc[:, 'Alignment'].values\n",
    "    X_train, X_test, y_train, y_test = train_test_split(X, y, test_size = 0.20, random_state = 49)\n",
    "\n",
    "    classifier =  BernoulliNB()\n",
    "    classifier.fit(X_train, y_train)\n",
    "    y_pred = classifier.predict(X_test)\n",
    "\n",
    "    report = classification_report(y_test, y_pred, target_names=['bad', 'good'], output_dict=True, zero_division=0)\n",
    "    precision = report['weighted avg']['precision']\n",
    "    recall = report['weighted avg']['recall']\n",
    "    f1_score = report['weighted avg']['f1-score']\n",
    "    acc = report['accuracy']\n",
    "\n",
    "    return precision, recall, f1_score, acc, classifier\n",
    "    \n",
    "precision, recall, f1score, acc, classifier = classifier(df_heros[df_heros['Alignment'] != 'neutral'])\n",
    "\n",
    "print('Precisão', precision)\n",
    "print('Recall', recall)\n",
    "print('F1-Score',f1score)\n",
    "print('Acurácia', acc)\n"
   ]
  },
  {
   "cell_type": "markdown",
   "metadata": {},
   "source": [
    "### 5.1 - Quais hipóteses assumimos ao usar o algoritmo Naive Bayes? <a id=\"51\"></a> "
   ]
  },
  {
   "cell_type": "markdown",
   "metadata": {},
   "source": [
    "O algoritmo Naive Bayes é amplamente utilizado para tarefas de classificação devido à sua eficiência e simplicidade. Ao aplicar este método, algumas hipóteses fundamentais são assumidas que devem ser compreendidas e avaliadas:\n",
    "\n",
    "- **Independência das variáveis**: Uma das suposições mais críticas do Naive Bayes é que as variáveis preditoras (atributos) são independentes entre si, dado o rótulo da classe. Isso significa que a presença ou ausência de uma característica particular em um dado não afeta a presença ou ausência de outra característica, dentro do contexto da classificação.\n",
    "\n",
    "- **Ausência de Correlação entre variáveis**: Reforçando o pressuposto de independência, o algoritmo assume que não há correlação entre as variáveis. A consideração de que as variáveis são não correlacionadas permite que o modelo simplifique os cálculos, tratando cada atributo como se contribuísse de forma independente para a probabilidade da classe, sem interação entre eles.\n",
    "\n",
    "- **Distribuição dos Dados**: Dependendo da variante do Naive Bayes aplicada, diferentes suposições sobre a distribuição dos dados são feitas:\n",
    "\n",
    "    + **Naive Bayes Gaussiano**: Assume que os dados numéricos seguem uma distribuição normal (gaussiana). Este modelo é adequado quando os atributos são contínuos. Para isso, utiliza-se o teste de Shapiro-Wilk.\n",
    "    + **Naive Bayes Bernoulli**: Usado para dados binários, assume que os atributos são binários e seguem uma distribuição de Bernoulli, o que é comum em situações onde características podem ser descritas como presentes ou ausentes.\n",
    "    + **Naive Bayes Multinomial**: Frequente em problemas de classificação de texto, onde as características são contagens ou frequências de eventos.\n",
    "\n",
    "Estas hipóteses são essenciais para o correto funcionamento e eficácia do algoritmo. Ao implementar o Naive Bayes, é importante verificar se essas condições são razoavelmente satisfeitas nos dados em uso, pois violações desses pressupostos podem levar a resultados subótimos e interpretações enganosas."
   ]
  },
  {
   "cell_type": "markdown",
   "metadata": {},
   "source": [
    "### 5.2 - Como as características específicas deste conjunto de dados influenciam suas escolhas e resultados de modelagem? <a id=\"52\"></a> "
   ]
  },
  {
   "cell_type": "markdown",
   "metadata": {},
   "source": [
    "Ao abordar o conjunto de dados em questão, várias características específicas tiveram um impacto significativo nas decisões de modelagem e nos resultados subsequentes. Algumas características foram identificadas durante a etapa inicial de Exploração de Dados (EDA), como o desbalanceamento de classes, do qual é crucial para entender a natureza dos dados e criação de modelos.\n",
    "\n",
    "- **Desbalanceamento de Classes**: Uma das descobertas mais críticas foi o desbalanceamento significativo na variável de alinhamento do herói. Este desbalanceamento pode levar a modelos que são enviesados em favor das classes mais frequentes, afetando negativamente a precisão e a generalização do modelo em classes menos representadas. Entretanto, como explicado anteriormente, essa é uma situação normal em uma base de dados assim, o qual no mundo real há uma tendência de haver mais heróis que vilões. Por fim, recomenda-se uma análise para o balanceamento das classes, como SMOTE.\n",
    "\n",
    "- **Alta Dimensionalidade**: Outro desafio foi a grande dimensionalidade dos dados, especialmente com muitas variáveis relativas a poderes e características dos heróis. Então, para identificar as variáveis mais importantes utilizou-se o método de seleção RFE com uma árvore simples de decisão.\n",
    "\n",
    "Essas características específicas do conjunto de dados guiaram a escolha de técnicas e estratégias de modelagem. O entendimento profundo adquirido através da EDA permitiu implementar soluções direcionadas que abordassem esses desafios de maneira eficaz, resultando em modelos mais robustos e interpretações mais confiáveis dos dados."
   ]
  },
  {
   "cell_type": "markdown",
   "metadata": {},
   "source": [
    "### 5.3 - Como você avalia os resultados? <a id=\"53\"></a> "
   ]
  },
  {
   "cell_type": "markdown",
   "metadata": {},
   "source": [
    "Os resultados de um modelo de classificação são geralmente avaliados com base nas seguintes métricas:\n",
    "\n",
    "- **F1-Score**: É a média harmônica entre Precision e Recall. Um valor baixo de F1-Score sugere que uma das duas métricas, ou ambas, estão igualmente baixas. Esta métrica é particularmente útil quando se deseja encontrar um equilíbrio entre Precision e Recall, especialmente em cenários onde as classes são desbalanceadas (nosso caso).\n",
    "\n",
    "- **Precision**: Esta métrica indica a precisão do modelo ao prever uma classe específica. Em outras palavras, quantifica a proporção de identificações positivas que foram realmente corretas. Uma Precision alta indica que a maioria das previsões positivas feitas pelo modelo está correta, ou seja, o herói possui alinhamento Bom.\n",
    "\n",
    "- **Recall**: O Recall mede a capacidade do modelo de identificar todas as categorias relevantes dentro de uma classe específica. Uma alta revocação indica que o modelo capturou a maioria das amostras positivas.\n",
    "\n",
    "- **Acurácia**: Esta métrica indica a proporção de previsões corretas (tanto positivas quanto negativas) em relação ao total de previsões feitas. A acurácia é útil para uma visão geral da eficácia do modelo, mas pode ser enganosa em situações com classes desproporcionais (nosso caso).\n",
    "\n",
    "Cada uma dessas métricas fornece uma visão diferente da performance do modelo, permitindo uma análise abrangente de sua eficiência em diversos aspectos da classificação, das quais podem ser calculadas através da matriz de confusão, caso necessário. Por fim, vale ressaltar que, dada as políticas públicas dos quais os países aplicam ao redor do mundo, é correta o desbalanceamento de classes referente ao alinhamento, uma vez que há muito mais heróis que vilões."
   ]
  },
  {
   "cell_type": "markdown",
   "metadata": {},
   "source": [
    "Agora sinta-se à vontade para executar o algoritmo de classificação que julgar mais adequado\n",
    "para essa tarefa."
   ]
  },
  {
   "cell_type": "code",
   "execution_count": 100,
   "metadata": {},
   "outputs": [
    {
     "data": {
      "text/plain": [
       "IMC                    0.061591\n",
       "Weight                 0.052230\n",
       "Height                 0.043662\n",
       "Eye color_red          0.013321\n",
       "Insanity               0.012494\n",
       "                         ...   \n",
       "name_Harley Quinn      0.000000\n",
       "name_Hal Jordan        0.000000\n",
       "name_White Canary      0.000000\n",
       "name_Winter Soldier    0.000000\n",
       "name_Gravity           0.000000\n",
       "Length: 594, dtype: float64"
      ]
     },
     "execution_count": 100,
     "metadata": {},
     "output_type": "execute_result"
    }
   ],
   "source": [
    "def features(df: pd.DataFrame):\n",
    "    \"\"\"\n",
    "    Esta função faz a escolha das features atraves do feature_importances_.\n",
    "\n",
    "    Parâmetros:\n",
    "    - df: conjunto de dados.\n",
    "\n",
    "    Retorna:\n",
    "    - Uma lista com as features recomendadas.\n",
    "    \"\"\"\n",
    "\n",
    "    df = pd.get_dummies(df, drop_first=True)\n",
    "\n",
    "    X = df.drop(['Alignment_good', 'Alignment_neutral'], axis=1)\n",
    "    y = df[['Alignment_good', 'Alignment_neutral']]\n",
    "\n",
    "    X_train, X_test, y_train, y_test = train_test_split(X, y, test_size=0.2, random_state=42)\n",
    "    model = RandomForestClassifier(n_estimators=100, random_state=42)\n",
    "    model.fit(X_train, y_train)\n",
    "\n",
    "    feature_importances = pd.Series(model.feature_importances_, index=X_train.columns).sort_values(ascending=False)\n",
    "    return feature_importances\n",
    "\n",
    "features(df_heros)\n",
    "\n"
   ]
  },
  {
   "cell_type": "code",
   "execution_count": 101,
   "metadata": {},
   "outputs": [
    {
     "name": "stdout",
     "output_type": "stream",
     "text": [
      "Precisão 0.4808712121212121\n",
      "Recall 0.546875\n",
      "F1-Score 0.47824500768049155\n",
      "Acurácia 0.546875\n"
     ]
    },
    {
     "name": "stderr",
     "output_type": "stream",
     "text": [
      "C:\\Users\\User\\AppData\\Local\\Temp\\ipykernel_8560\\2573326245.py:19: DataConversionWarning: A column-vector y was passed when a 1d array was expected. Please change the shape of y to (n_samples,), for example using ravel().\n",
      "  classifier.fit(X_train, y_train)\n"
     ]
    }
   ],
   "source": [
    "def classifier_forest(df: pd.DataFrame):\n",
    "    \"\"\"\n",
    "    Esta função faz a previsão do peso.\n",
    "\n",
    "    Parâmetros:\n",
    "    - df: conjunto de dados.\n",
    "\n",
    "    Retorna:\n",
    "    - métricas de acurácia, precision, recall, f1score e o classificador treinado.\n",
    "    \"\"\"\n",
    "\n",
    "    X = np.array(df[['IMC']].copy())\n",
    "    y = np.array(df[['Alignment']].copy())\n",
    "\n",
    "    X_train, X_test, y_train, y_test = train_test_split(X, y, test_size=0.2, random_state=42, shuffle=True)\n",
    "\n",
    "\n",
    "    classifier = RandomForestClassifier()\n",
    "    classifier.fit(X_train, y_train)\n",
    "\n",
    "    y_pred = classifier.predict(X_test)\n",
    "\n",
    "    # metricas\n",
    "    report = classification_report(y_test, y_pred, target_names=['bad', 'good'], output_dict=True, zero_division=0)\n",
    "    precision = report['weighted avg']['precision']\n",
    "    recall = report['weighted avg']['recall']\n",
    "    f1_score = report['weighted avg']['f1-score']\n",
    "    acc = report['accuracy']\n",
    "\n",
    "    return precision, recall, f1_score, acc, classifier\n",
    "    \n",
    "precision, recall, f1score, acc, classifier = classifier_forest(df_heros[df_heros['Alignment'] != 'neutral'])\n",
    "\n",
    "print('Precisão', precision)\n",
    "print('Recall', recall)\n",
    "print('F1-Score',f1score)\n",
    "print('Acurácia', acc)\n"
   ]
  },
  {
   "cell_type": "markdown",
   "metadata": {},
   "source": [
    "### 5.4 - O que motivou sua escolha do algoritmo? <a id=\"54\"></a> "
   ]
  },
  {
   "cell_type": "markdown",
   "metadata": {},
   "source": [
    "A principal escolha por outro algoritmo de classificação se da por ser mais generalista em comparação ao Naive Bayes, como a Random Forest. Esta escolha foi motivada por várias razões estratégicas que destacam a superioridade do Random Forest para o contexto específico dos nossos dados:\n",
    "\n",
    "- **Robustez contra o Overfitting**: Diferentemente de modelos como o Naive Bayes, o Random Forest é conhecido por sua robustez e capacidade de generalizar melhor para dados não vistos. Isso se deve ao seu mecanismo de construção de múltiplas árvores de decisão e a agregação de seus resultados (ensemble learning), o que reduz o risco de overfitting que é frequentemente observado em modelos mais simples ou menos complexos.\n",
    "\n",
    "- **Não Exigência de Independência entre Variáveis**: Ao contrário do Naive Bayes, que requer que as variáveis preditoras sejam independentes entre si, o Random Forest não possui tal exigência. Isso é crucial em nosso caso, onde as variáveis podem ter interações complexas que são importantes para a classificação correta dos heróis baseado em seus alinhamentos e poderes.\n",
    "\n",
    "- **Interpretabilidade e Análise de Importância de Variáveis**: Apesar de ser um modelo de caixa preta relativamente complexo, o Random Forest oferece insights úteis sobre a importância das variáveis envolvidas na classificação. Isso nos permite entender melhor quais características são mais decisivas na determinação do alinhamento do herói, enriquecendo nossa análise.\n",
    "\n",
    "Em resumo, a escolha do Random Forest foi baseada na necessidade de um modelo que não apenas performasse bem em termos de acurácia, mas que também fosse robusto, flexível e informativo, adequando-se às complexidades do nosso conjunto de dados. Esta abordagem nos permite maximizar tanto a precisão quanto a interpretabilidade dos resultados da classificação."
   ]
  },
  {
   "cell_type": "markdown",
   "metadata": {},
   "source": [
    "### 5.5 - Como esse algoritmo se compara ao Naive Bayes em relação às suposições e resultados da modelagem? <a id=\"55\"></a> "
   ]
  },
  {
   "cell_type": "markdown",
   "metadata": {},
   "source": [
    "O algoritmo de Random Forest Classifier se destaca em relação ao Naive Bayes nos seguintes pontos:\n",
    "\n",
    "- **Nenhuma Suposição de Independência**: Ao contrário do Naive Bayes, o Random Forest não assume independência entre as características. Ele pode capturar interações complexas entre variáveis através de múltiplas árvores de decisão, tornando-o mais robusto e geralmente mais preciso em conjuntos de dados com relações complexas.\n",
    "\n",
    "- **Flexibilidade com Distribuições de Dados**: Random Forest não faz suposições explícitas sobre a distribuição dos dados, podendo trabalhar eficazmente tanto com características numéricas quanto categóricas.\n",
    "\n",
    "- **Robustez**: Geralmente, proporciona um alto desempenho em uma ampla gama de tarefas de classificação devido à sua capacidade de construir muitas árvores de decisão e obter a média de seus resultados, o que ajuda a reduzir a variância e o overfitting.\n",
    "\n",
    "- **Manuseio de Alta Dimensionalidade e Análise de Importância de Variáveis**: Efetivo no manuseio de dados com muitas variáveis preditoras e é capaz de identificar as variáveis mais importantes, o que é vantajoso para interpretação e redução de dimensionalidade.\n",
    "\n",
    "Em resumo, enquanto o Naive Bayes pode ser ideal para situações em que a independência entre variáveis é uma suposição razoável e a eficiência é crucial, o Random Forest é frequentemente preferido em cenários que requerem uma modelagem mais robusta e capaz de lidar com complexidades e interdependências entre variáveis. Em geral, o Random Forest tende a superar o Naive Bayes em termos de precisão em muitos cenários aplicados, mas com um custo computacional maior. Porém, como demonstrado acima, o Ranfom Forest utilizou apenas a variável IMC como preditora, após a análise da importância de variáveis (da qual continha Peso e Altura também, porém visando a não multicolinearidade usou-se apenas o IMC) e não obteve métricas melhores."
   ]
  },
  {
   "cell_type": "markdown",
   "metadata": {},
   "source": [
    "# 6. Além do bem e do mal<a id=\"6\"></a>"
   ]
  },
  {
   "cell_type": "markdown",
   "metadata": {},
   "source": [
    "Vamos transformar nosso problema em uma tarefa de regressão e tentar prever o peso dos super-heróis dados os outros recursos."
   ]
  },
  {
   "cell_type": "code",
   "execution_count": 102,
   "metadata": {},
   "outputs": [
    {
     "data": {
      "text/plain": [
       "IMC                             0.682069\n",
       "Height                          0.202148\n",
       "Toxin and Disease Resistance    0.013595\n",
       "Hair color_Red                  0.011279\n",
       "Radiation Absorption            0.005132\n",
       "                                  ...   \n",
       "name_Darkhawk                   0.000000\n",
       "name_Daredevil                  0.000000\n",
       "name_Static                     0.000000\n",
       "name_Cyborg Superman            0.000000\n",
       "name_Copycat                    0.000000\n",
       "Length: 595, dtype: float64"
      ]
     },
     "execution_count": 102,
     "metadata": {},
     "output_type": "execute_result"
    }
   ],
   "source": [
    "def features(df: pd.DataFrame):\n",
    "    \"\"\"\n",
    "    Esta função faz a escolha das features atraves do feature_importances_.\n",
    "\n",
    "    Parâmetros:\n",
    "    - df: conjunto de dados.\n",
    "\n",
    "    Retorna:\n",
    "    - Uma lista com as features recomendadas.\n",
    "    \"\"\"\n",
    "\n",
    "    df = pd.get_dummies(df, drop_first=True)\n",
    "\n",
    "    X = df.drop(['Weight'], axis=1)\n",
    "    y = df['Weight']\n",
    "\n",
    "    X_train, X_test, y_train, y_test = train_test_split(X, y, test_size=0.2, random_state=42)\n",
    "    model = RandomForestRegressor(n_estimators=100, random_state=42)\n",
    "    model.fit(X_train, y_train)\n",
    "\n",
    "    feature_importances = pd.Series(model.feature_importances_, index=X_train.columns).sort_values(ascending=False)\n",
    "    return feature_importances\n",
    "\n",
    "features(df_heros)"
   ]
  },
  {
   "cell_type": "code",
   "execution_count": 103,
   "metadata": {},
   "outputs": [
    {
     "name": "stdout",
     "output_type": "stream",
     "text": [
      "R2 0.7612502660643875\n",
      "MAPE 0.20904503157212875\n",
      "MAE 18.525347126387228\n"
     ]
    },
    {
     "name": "stderr",
     "output_type": "stream",
     "text": [
      "C:\\Users\\User\\AppData\\Local\\Temp\\ipykernel_8560\\1970992744.py:19: DataConversionWarning: A column-vector y was passed when a 1d array was expected. Please change the shape of y to (n_samples,), for example using ravel().\n",
      "  regressor.fit(X_train, y_train)\n"
     ]
    }
   ],
   "source": [
    "def regressor(df: pd.DataFrame):\n",
    "    \"\"\"\n",
    "    Esta função faz a previsão do peso.\n",
    "\n",
    "    Parâmetros:\n",
    "    - df: conjunto de dados.\n",
    "\n",
    "    Retorna:\n",
    "    - métricas de r2, mape, mae e o regressor treinado.\n",
    "    \"\"\"\n",
    "\n",
    "    X = np.array(df[['IMC']].copy())\n",
    "    y = np.array(df[['Weight']].copy())\n",
    "\n",
    "    X_train, X_test, y_train, y_test = train_test_split(X, y, test_size=0.2, random_state=42, shuffle=True)\n",
    "\n",
    "\n",
    "    regressor = RandomForestRegressor()\n",
    "    regressor.fit(X_train, y_train)\n",
    "\n",
    "    y_pred = regressor.predict(X_test)\n",
    "\n",
    "    # metricas\n",
    "    r2 = regressor.score(X_test, y_test) \n",
    "    mape = mean_absolute_percentage_error(y_test, y_pred)\n",
    "    mae = mean_absolute_error(y_test, y_pred)\n",
    "\n",
    "    return r2, mape, mae, regressor\n",
    "\n",
    "r2, mape, mae, regressor = regressor(df_heros)\n",
    "print('R2', r2)\n",
    "print('MAPE', mape)\n",
    "print('MAE', mae)"
   ]
  },
  {
   "cell_type": "markdown",
   "metadata": {},
   "source": [
    "### 6.1 - Qual algoritmo você escolheu e por quê? <a id=\"61\"></a> "
   ]
  },
  {
   "cell_type": "markdown",
   "metadata": {},
   "source": [
    "O modelo escolhido foi o Random Forest Regressor, um modelo que pode ser bastante generalista e alcançar ótimos resultados. Esta escolha foi motivada por várias razões estratégicas que destacam a superioridade do Random Forest para o contexto específico dos nossos dados:\n",
    "\n",
    "- **Interpretabilidade e Análise de Importância de Variáveis**: Apesar de ser um modelo de caixa preta relativamente complexo, o Random Forest oferece insights úteis sobre a importância das variáveis envolvidas na classificação. Isso nos permite entender melhor quais características são mais decisivas na determinação do alinhamento do herói, enriquecendo nossa análise.\n",
    "\n",
    "- **Robustez contra o Overfitting**: Diferentemente de modelos como o Naive Bayes, o Random Forest é conhecido por sua robustez e capacidade de generalizar melhor para dados não vistos. Isso se deve ao seu mecanismo de construção de múltiplas árvores de decisão e a agregação de seus resultados (ensemble learning), o que reduz o risco de overfitting que é frequentemente observado em modelos mais simples ou menos complexos.\n"
   ]
  },
  {
   "cell_type": "markdown",
   "metadata": {},
   "source": [
    "### 6.2 - Como você avalia o desempenho do seu algoritmo neste caso? <a id=\"62\"></a> "
   ]
  },
  {
   "cell_type": "markdown",
   "metadata": {},
   "source": [
    "Os resultados de um modelo de regressão são geralmente avaliados com base nas seguintes métricas:\n",
    "\n",
    "- **R² (Coeficiente de Determinação)**: Fornece uma indicação de quão bom é o ajuste do modelo aos dados observados. Um valor de R² mais próximo de 1 indica que o modelo explica uma grande parte da variância nos dados, enquanto um valor próximo de 0 indica que o modelo não explica a variância dos dados de forma eficaz. Entretanto, um valor muito próximo de 1 pode indicar overfitting, bem como um valor próximo de 0 indicar underfitting.\n",
    "\n",
    "- **MAPE (Erro Percentual Absoluto Médio)**: Mede a precisão do modelo de regressão como uma porcentagem e é calculado como a média dos valores absolutos dos erros percentuais. Esta métrica é particularmente útil porque ajuda na interpretabilidade de metrificação do modelo para pessoa mais leigas. Por exemplo, um MAPE de 10% significa que, em média, a previsão do modelo está dentro de 10% do valor real\n",
    "\n",
    "- **MAE (Erro Absoluto Médio)**: Fornece uma média dos erros absolutos entre os valores previstos e os valores observados. Ao contrário do erro quadrático médio, o MAE mede os erros absolutos sem elevar ao quadrado, evitando, portanto, a penalização excessiva de erros grandes.\n",
    "\n",
    "\n",
    "Em resumo, O R² fornece uma visão geral da adequação do modelo nos dados, o MAPE ajuda a entender a precisão em termos percentuais, e o MAE oferece uma medida direta dos erros de previsão. Ao comparar essas métricas, você pode fazer ajustes no modelo para melhorar seu desempenho ou escolher o modelo mais adequado para a tarefa em questão."
   ]
  },
  {
   "cell_type": "markdown",
   "metadata": {},
   "source": [
    "# 7. Análise geral<a id=\"7\"></a>"
   ]
  },
  {
   "cell_type": "markdown",
   "metadata": {},
   "source": [
    "### 7.1 - Quais aspectos desse conjunto de dados apresentam problemas para agrupamento, classificação e regressão? Como você resolveu esses problemas? <a id=\"71\"></a> "
   ]
  },
  {
   "cell_type": "markdown",
   "metadata": {},
   "source": [
    "Os principais problemas encontrar no decorrer da criação dos modelos e análises foram:\n",
    "\n",
    "- **Dados nulos ou sujos**: Principalmente na base de dados de informações dos heróis, variáveis importantes como Peso e Altura, possuíam dados nulos ou sujos, dos quais necessitaram tratamento. Assim, o tratamento para as variáveis de Peso e Altura se deu pela média olhando o agrupamento do respectivo genêro e raça. Por fim, a porcentagem de dados nulos no restante das colunas era abaixo de 5%, decidindo pelo descarte.\n",
    "\n",
    "- **Alta dimensionalidade**: A base de dados com as informações dos poderes de cada super-herói possuía cerca de 168 colunas, das quais uma análise particular levaria bastante esforço. Para isso, principalmente visando a crição dos modelos e escolha das melhores variáveis, foram utilizados métodos como RFE, PCA e Features importances, visando reduzir a dimensionalidade ou escolher apenas as melhores dentre todas.\n",
    "\n"
   ]
  },
  {
   "cell_type": "markdown",
   "metadata": {},
   "source": [
    "# Streamlit <a id=\"8\"></a>"
   ]
  },
  {
   "cell_type": "markdown",
   "metadata": {},
   "source": [
    "Visando uma interface amigável e interativa, a HeroStats decidiu por a público sua plataforma de análise dos super-heróis. Acesse em: https://hero-stats.streamlit.app/."
   ]
  },
  {
   "cell_type": "markdown",
   "metadata": {},
   "source": []
  }
 ],
 "metadata": {
  "kernelspec": {
   "display_name": "Python 3 (ipykernel)",
   "language": "python",
   "name": "python3"
  },
  "language_info": {
   "codemirror_mode": {
    "name": "ipython",
    "version": 3
   },
   "file_extension": ".py",
   "mimetype": "text/x-python",
   "name": "python",
   "nbconvert_exporter": "python",
   "pygments_lexer": "ipython3",
   "version": "3.11.2"
  }
 },
 "nbformat": 4,
 "nbformat_minor": 1
}
